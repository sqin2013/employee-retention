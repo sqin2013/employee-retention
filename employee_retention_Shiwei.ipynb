{
 "cells": [
  {
   "cell_type": "code",
   "execution_count": 3,
   "metadata": {},
   "outputs": [],
   "source": [
    "import numpy as np\n",
    "import pandas as pd\n",
    "import matplotlib.pyplot as plt\n",
    "import seaborn as sns\n",
    "import re\n",
    "import datetime\n",
    "from scipy import stats\n",
    "\n",
    "%matplotlib inline\n",
    "\n",
    "from sklearn.ensemble import RandomForestClassifier\n",
    "from sklearn.model_selection import train_test_split, GridSearchCV\n",
    "from sklearn.metrics import classification_report, confusion_matrix, roc_curve, roc_auc_score\n",
    "from sklearn.metrics import accuracy_score, r2_score\n",
    "from sklearn.utils import resample\n",
    "\n",
    "import h2o\n",
    "from h2o.frame import H2OFrame\n",
    "from h2o.estimators import H2ORandomForestEstimator\n",
    "from h2o.grid.grid_search import H2OGridSearch"
   ]
  },
  {
   "cell_type": "markdown",
   "metadata": {},
   "source": [
    "# explortary analysis"
   ]
  },
  {
   "cell_type": "code",
   "execution_count": 4,
   "metadata": {},
   "outputs": [],
   "source": [
    "df = pd.read_csv(\"employee_retention_data.csv\")"
   ]
  },
  {
   "cell_type": "code",
   "execution_count": 6,
   "metadata": {},
   "outputs": [
    {
     "data": {
      "text/html": [
       "<div>\n",
       "<style scoped>\n",
       "    .dataframe tbody tr th:only-of-type {\n",
       "        vertical-align: middle;\n",
       "    }\n",
       "\n",
       "    .dataframe tbody tr th {\n",
       "        vertical-align: top;\n",
       "    }\n",
       "\n",
       "    .dataframe thead th {\n",
       "        text-align: right;\n",
       "    }\n",
       "</style>\n",
       "<table border=\"1\" class=\"dataframe\">\n",
       "  <thead>\n",
       "    <tr style=\"text-align: right;\">\n",
       "      <th></th>\n",
       "      <th>employee_id</th>\n",
       "      <th>company_id</th>\n",
       "      <th>seniority</th>\n",
       "      <th>salary</th>\n",
       "    </tr>\n",
       "  </thead>\n",
       "  <tbody>\n",
       "    <tr>\n",
       "      <td>count</td>\n",
       "      <td>24702.000000</td>\n",
       "      <td>24702.000000</td>\n",
       "      <td>24702.000000</td>\n",
       "      <td>24702.000000</td>\n",
       "    </tr>\n",
       "    <tr>\n",
       "      <td>mean</td>\n",
       "      <td>501604.403530</td>\n",
       "      <td>3.426969</td>\n",
       "      <td>14.127803</td>\n",
       "      <td>138183.345478</td>\n",
       "    </tr>\n",
       "    <tr>\n",
       "      <td>std</td>\n",
       "      <td>288909.026101</td>\n",
       "      <td>2.700011</td>\n",
       "      <td>8.089520</td>\n",
       "      <td>76058.184573</td>\n",
       "    </tr>\n",
       "    <tr>\n",
       "      <td>min</td>\n",
       "      <td>36.000000</td>\n",
       "      <td>1.000000</td>\n",
       "      <td>1.000000</td>\n",
       "      <td>17000.000000</td>\n",
       "    </tr>\n",
       "    <tr>\n",
       "      <td>25%</td>\n",
       "      <td>250133.750000</td>\n",
       "      <td>1.000000</td>\n",
       "      <td>7.000000</td>\n",
       "      <td>79000.000000</td>\n",
       "    </tr>\n",
       "    <tr>\n",
       "      <td>50%</td>\n",
       "      <td>500793.000000</td>\n",
       "      <td>2.000000</td>\n",
       "      <td>14.000000</td>\n",
       "      <td>123000.000000</td>\n",
       "    </tr>\n",
       "    <tr>\n",
       "      <td>75%</td>\n",
       "      <td>753137.250000</td>\n",
       "      <td>5.000000</td>\n",
       "      <td>21.000000</td>\n",
       "      <td>187000.000000</td>\n",
       "    </tr>\n",
       "    <tr>\n",
       "      <td>max</td>\n",
       "      <td>999969.000000</td>\n",
       "      <td>12.000000</td>\n",
       "      <td>99.000000</td>\n",
       "      <td>408000.000000</td>\n",
       "    </tr>\n",
       "  </tbody>\n",
       "</table>\n",
       "</div>"
      ],
      "text/plain": [
       "         employee_id    company_id     seniority         salary\n",
       "count   24702.000000  24702.000000  24702.000000   24702.000000\n",
       "mean   501604.403530      3.426969     14.127803  138183.345478\n",
       "std    288909.026101      2.700011      8.089520   76058.184573\n",
       "min        36.000000      1.000000      1.000000   17000.000000\n",
       "25%    250133.750000      1.000000      7.000000   79000.000000\n",
       "50%    500793.000000      2.000000     14.000000  123000.000000\n",
       "75%    753137.250000      5.000000     21.000000  187000.000000\n",
       "max    999969.000000     12.000000     99.000000  408000.000000"
      ]
     },
     "execution_count": 6,
     "metadata": {},
     "output_type": "execute_result"
    }
   ],
   "source": [
    "df.describe()"
   ]
  },
  {
   "cell_type": "code",
   "execution_count": 7,
   "metadata": {},
   "outputs": [
    {
     "data": {
      "text/plain": [
       "employee_id        0\n",
       "company_id         0\n",
       "dept               0\n",
       "seniority          0\n",
       "salary             0\n",
       "join_date          0\n",
       "quit_date      11192\n",
       "dtype: int64"
      ]
     },
     "execution_count": 7,
     "metadata": {},
     "output_type": "execute_result"
    }
   ],
   "source": [
    "df.isna().sum()"
   ]
  },
  {
   "cell_type": "code",
   "execution_count": 8,
   "metadata": {},
   "outputs": [
    {
     "data": {
      "text/plain": [
       "<matplotlib.axes._subplots.AxesSubplot at 0x1ad5c90a588>"
      ]
     },
     "execution_count": 8,
     "metadata": {},
     "output_type": "execute_result"
    },
    {
     "data": {
      "image/png": "[encoded data removed]",
      "text/plain": [
       "<Figure size 432x288 with 1 Axes>"
      ]
     },
     "metadata": {
      "needs_background": "light"
     },
     "output_type": "display_data"
    }
   ],
   "source": [
    "sns.distplot(df['seniority'], hist=True, kde=False)"
   ]
  },
  {
   "cell_type": "code",
   "execution_count": 9,
   "metadata": {},
   "outputs": [
    {
     "name": "stdout",
     "output_type": "stream",
     "text": [
      "(24702, 7)\n",
      "(24700, 7)\n"
     ]
    }
   ],
   "source": [
    "print(df.shape)\n",
    "df = df.loc[df['seniority']<40]\n",
    "print(df.shape)"
   ]
  },
  {
   "cell_type": "code",
   "execution_count": 10,
   "metadata": {},
   "outputs": [
    {
     "data": {
      "text/plain": [
       "<matplotlib.axes._subplots.AxesSubplot at 0x1ad5ea1af98>"
      ]
     },
     "execution_count": 10,
     "metadata": {},
     "output_type": "execute_result"
    },
    {
     "data": {
      "image/png": "[encoded data removed]",
      "text/plain": [
       "<Figure size 432x288 with 1 Axes>"
      ]
     },
     "metadata": {
      "needs_background": "light"
     },
     "output_type": "display_data"
    }
   ],
   "source": [
    "sns.distplot(df['salary'], hist=True, kde=False)"
   ]
  },
  {
   "cell_type": "code",
   "execution_count": 21,
   "metadata": {
    "scrolled": true
   },
   "outputs": [
    {
     "data": {
      "text/plain": [
       "['__class__',\n",
       " '__delattr__',\n",
       " '__dict__',\n",
       " '__dir__',\n",
       " '__doc__',\n",
       " '__eq__',\n",
       " '__format__',\n",
       " '__ge__',\n",
       " '__getattribute__',\n",
       " '__gt__',\n",
       " '__hash__',\n",
       " '__init__',\n",
       " '__init_subclass__',\n",
       " '__le__',\n",
       " '__lt__',\n",
       " '__module__',\n",
       " '__ne__',\n",
       " '__new__',\n",
       " '__reduce__',\n",
       " '__reduce_ex__',\n",
       " '__repr__',\n",
       " '__setattr__',\n",
       " '__sizeof__',\n",
       " '__str__',\n",
       " '__subclasshook__',\n",
       " '__weakref__',\n",
       " '_bottom_axes',\n",
       " '_clean_axis',\n",
       " '_col_var',\n",
       " '_col_wrap',\n",
       " '_colors',\n",
       " '_dropna',\n",
       " '_facet_color',\n",
       " '_facet_plot',\n",
       " '_finalize_grid',\n",
       " '_get_palette',\n",
       " '_hue_var',\n",
       " '_inner_axes',\n",
       " '_left_axes',\n",
       " '_legend',\n",
       " '_legend_data',\n",
       " '_legend_out',\n",
       " '_margin_titles',\n",
       " '_n_facets',\n",
       " '_ncol',\n",
       " '_not_bottom_axes',\n",
       " '_not_left_axes',\n",
       " '_not_na',\n",
       " '_nrow',\n",
       " '_row_var',\n",
       " '_space_needed',\n",
       " '_update_legend_data',\n",
       " '_x_var',\n",
       " '_y_var',\n",
       " 'add_legend',\n",
       " 'ax',\n",
       " 'axes',\n",
       " 'col_names',\n",
       " 'data',\n",
       " 'despine',\n",
       " 'facet_axis',\n",
       " 'facet_data',\n",
       " 'fig',\n",
       " 'hue_kws',\n",
       " 'hue_names',\n",
       " 'map',\n",
       " 'map_dataframe',\n",
       " 'row_names',\n",
       " 'savefig',\n",
       " 'set',\n",
       " 'set_axis_labels',\n",
       " 'set_titles',\n",
       " 'set_xlabels',\n",
       " 'set_xticklabels',\n",
       " 'set_ylabels',\n",
       " 'set_yticklabels']"
      ]
     },
     "execution_count": 21,
     "metadata": {},
     "output_type": "execute_result"
    }
   ],
   "source": [
    "dir(f)"
   ]
  },
  {
   "cell_type": "code",
   "execution_count": 26,
   "metadata": {},
   "outputs": [
    {
     "data": {
      "image/png": "[encoded data removed]",
      "text/plain": [
       "<Figure size 1152x576 with 1 Axes>"
      ]
     },
     "metadata": {
      "needs_background": "light"
     },
     "output_type": "display_data"
    }
   ],
   "source": [
    "df['seniority_bin'] = pd.cut(df['seniority'], bins=3)\n",
    "f = sns.catplot(data=df, kind='box', x='company_id', y='salary', hue='seniority_bin')\n",
    "f.fig.set_size_inches(16, 8)"
   ]
  },
  {
   "cell_type": "markdown",
   "metadata": {},
   "source": [
    "# Question 1: create tables with 3 columns: day, employee_headcount, company_id"
   ]
  },
  {
   "cell_type": "code",
   "execution_count": 27,
   "metadata": {},
   "outputs": [
    {
     "data": {
      "text/plain": [
       "employee_id       float64\n",
       "company_id          int64\n",
       "dept               object\n",
       "seniority           int64\n",
       "salary            float64\n",
       "join_date          object\n",
       "quit_date          object\n",
       "seniority_bin    category\n",
       "dtype: object"
      ]
     },
     "execution_count": 27,
     "metadata": {},
     "output_type": "execute_result"
    }
   ],
   "source": [
    "df.dtypes"
   ]
  },
  {
   "cell_type": "code",
   "execution_count": 28,
   "metadata": {},
   "outputs": [
    {
     "data": {
      "text/html": [
       "<div>\n",
       "<style scoped>\n",
       "    .dataframe tbody tr th:only-of-type {\n",
       "        vertical-align: middle;\n",
       "    }\n",
       "\n",
       "    .dataframe tbody tr th {\n",
       "        vertical-align: top;\n",
       "    }\n",
       "\n",
       "    .dataframe thead th {\n",
       "        text-align: right;\n",
       "    }\n",
       "</style>\n",
       "<table border=\"1\" class=\"dataframe\">\n",
       "  <thead>\n",
       "    <tr style=\"text-align: right;\">\n",
       "      <th></th>\n",
       "      <th>employee_id</th>\n",
       "      <th>company_id</th>\n",
       "      <th>dept</th>\n",
       "      <th>seniority</th>\n",
       "      <th>salary</th>\n",
       "      <th>join_date</th>\n",
       "      <th>quit_date</th>\n",
       "      <th>seniority_bin</th>\n",
       "    </tr>\n",
       "  </thead>\n",
       "  <tbody>\n",
       "    <tr>\n",
       "      <td>0</td>\n",
       "      <td>13021.0</td>\n",
       "      <td>7</td>\n",
       "      <td>customer_service</td>\n",
       "      <td>28</td>\n",
       "      <td>89000.0</td>\n",
       "      <td>2014-03-24</td>\n",
       "      <td>2015-10-30</td>\n",
       "      <td>(19.667, 29.0]</td>\n",
       "    </tr>\n",
       "    <tr>\n",
       "      <td>1</td>\n",
       "      <td>825355.0</td>\n",
       "      <td>7</td>\n",
       "      <td>marketing</td>\n",
       "      <td>20</td>\n",
       "      <td>183000.0</td>\n",
       "      <td>2013-04-29</td>\n",
       "      <td>2014-04-04</td>\n",
       "      <td>(19.667, 29.0]</td>\n",
       "    </tr>\n",
       "    <tr>\n",
       "      <td>2</td>\n",
       "      <td>927315.0</td>\n",
       "      <td>4</td>\n",
       "      <td>marketing</td>\n",
       "      <td>14</td>\n",
       "      <td>101000.0</td>\n",
       "      <td>2014-10-13</td>\n",
       "      <td>NaT</td>\n",
       "      <td>(10.333, 19.667]</td>\n",
       "    </tr>\n",
       "    <tr>\n",
       "      <td>3</td>\n",
       "      <td>662910.0</td>\n",
       "      <td>7</td>\n",
       "      <td>customer_service</td>\n",
       "      <td>20</td>\n",
       "      <td>115000.0</td>\n",
       "      <td>2012-05-14</td>\n",
       "      <td>2013-06-07</td>\n",
       "      <td>(19.667, 29.0]</td>\n",
       "    </tr>\n",
       "    <tr>\n",
       "      <td>4</td>\n",
       "      <td>256971.0</td>\n",
       "      <td>2</td>\n",
       "      <td>data_science</td>\n",
       "      <td>23</td>\n",
       "      <td>276000.0</td>\n",
       "      <td>2011-10-17</td>\n",
       "      <td>2014-08-22</td>\n",
       "      <td>(19.667, 29.0]</td>\n",
       "    </tr>\n",
       "  </tbody>\n",
       "</table>\n",
       "</div>"
      ],
      "text/plain": [
       "   employee_id  company_id              dept  seniority    salary  join_date  \\\n",
       "0      13021.0           7  customer_service         28   89000.0 2014-03-24   \n",
       "1     825355.0           7         marketing         20  183000.0 2013-04-29   \n",
       "2     927315.0           4         marketing         14  101000.0 2014-10-13   \n",
       "3     662910.0           7  customer_service         20  115000.0 2012-05-14   \n",
       "4     256971.0           2      data_science         23  276000.0 2011-10-17   \n",
       "\n",
       "   quit_date     seniority_bin  \n",
       "0 2015-10-30    (19.667, 29.0]  \n",
       "1 2014-04-04    (19.667, 29.0]  \n",
       "2        NaT  (10.333, 19.667]  \n",
       "3 2013-06-07    (19.667, 29.0]  \n",
       "4 2014-08-22    (19.667, 29.0]  "
      ]
     },
     "execution_count": 28,
     "metadata": {},
     "output_type": "execute_result"
    }
   ],
   "source": [
    "df['join_date'] = pd.to_datetime(df['join_date'], errors='coerce')\n",
    "df['quit_date'] = pd.to_datetime(df['quit_date'], errors='coerce')\n",
    "df.head()"
   ]
  },
  {
   "cell_type": "code",
   "execution_count": 29,
   "metadata": {},
   "outputs": [
    {
     "data": {
      "text/plain": [
       "employee_id             float64\n",
       "company_id                int64\n",
       "dept                     object\n",
       "seniority                 int64\n",
       "salary                  float64\n",
       "join_date        datetime64[ns]\n",
       "quit_date        datetime64[ns]\n",
       "seniority_bin          category\n",
       "dtype: object"
      ]
     },
     "execution_count": 29,
     "metadata": {},
     "output_type": "execute_result"
    }
   ],
   "source": [
    "df.dtypes"
   ]
  },
  {
   "cell_type": "code",
   "execution_count": 32,
   "metadata": {},
   "outputs": [
    {
     "data": {
      "text/plain": [
       "(Timestamp('2011-01-24 00:00:00'), Timestamp('2015-12-10 00:00:00'))"
      ]
     },
     "execution_count": 32,
     "metadata": {},
     "output_type": "execute_result"
    }
   ],
   "source": [
    "df['join_date'].min(), df['join_date'].max()"
   ]
  },
  {
   "cell_type": "code",
   "execution_count": 52,
   "metadata": {},
   "outputs": [
    {
     "name": "stdout",
     "output_type": "stream",
     "text": [
      "Wall time: 1min 5s\n"
     ]
    }
   ],
   "source": [
    "%%time\n",
    "\n",
    "start_date, end_date = df['join_date'].min(), df['join_date'].max()\n",
    "days, employee_headcount, company_id = [], [], []\n",
    "companies = df['company_id'].unique()\n",
    "day = 0\n",
    "while start_date + datetime.timedelta(days=day) <= end_date:\n",
    "    date = start_date + datetime.timedelta(days=day)\n",
    "    for company in companies:\n",
    "        count_join = df.loc[(df['company_id']==company) & (df['join_date']<=date)].shape[0]\n",
    "        count_quit = df.loc[(df['company_id']==company) & (df['quit_date']<=date)].shape[0]\n",
    "        count_stay = count_join - count_quit\n",
    "        days.append(day)\n",
    "        employee_headcount.append(count_stay)\n",
    "        company_id.append(company)\n",
    "    day += 1"
   ]
  },
  {
   "cell_type": "code",
   "execution_count": 56,
   "metadata": {},
   "outputs": [
    {
     "data": {
      "text/html": [
       "<div>\n",
       "<style scoped>\n",
       "    .dataframe tbody tr th:only-of-type {\n",
       "        vertical-align: middle;\n",
       "    }\n",
       "\n",
       "    .dataframe tbody tr th {\n",
       "        vertical-align: top;\n",
       "    }\n",
       "\n",
       "    .dataframe thead th {\n",
       "        text-align: right;\n",
       "    }\n",
       "</style>\n",
       "<table border=\"1\" class=\"dataframe\">\n",
       "  <thead>\n",
       "    <tr style=\"text-align: right;\">\n",
       "      <th></th>\n",
       "      <th>days</th>\n",
       "      <th>company_id</th>\n",
       "      <th>employee_headcount</th>\n",
       "    </tr>\n",
       "  </thead>\n",
       "  <tbody>\n",
       "    <tr>\n",
       "      <td>0</td>\n",
       "      <td>0</td>\n",
       "      <td>7</td>\n",
       "      <td>1</td>\n",
       "    </tr>\n",
       "    <tr>\n",
       "      <td>1</td>\n",
       "      <td>0</td>\n",
       "      <td>4</td>\n",
       "      <td>12</td>\n",
       "    </tr>\n",
       "    <tr>\n",
       "      <td>2</td>\n",
       "      <td>0</td>\n",
       "      <td>2</td>\n",
       "      <td>17</td>\n",
       "    </tr>\n",
       "    <tr>\n",
       "      <td>3</td>\n",
       "      <td>0</td>\n",
       "      <td>9</td>\n",
       "      <td>3</td>\n",
       "    </tr>\n",
       "    <tr>\n",
       "      <td>4</td>\n",
       "      <td>0</td>\n",
       "      <td>1</td>\n",
       "      <td>25</td>\n",
       "    </tr>\n",
       "  </tbody>\n",
       "</table>\n",
       "</div>"
      ],
      "text/plain": [
       "   days  company_id  employee_headcount\n",
       "0     0           7                   1\n",
       "1     0           4                  12\n",
       "2     0           2                  17\n",
       "3     0           9                   3\n",
       "4     0           1                  25"
      ]
     },
     "execution_count": 56,
     "metadata": {},
     "output_type": "execute_result"
    }
   ],
   "source": [
    "dfhc = pd.DataFrame({\"days\": days, \"company_id\": company_id, \"employee_headcount\": employee_headcount})\n",
    "dfhc.head()"
   ]
  },
  {
   "cell_type": "code",
   "execution_count": 58,
   "metadata": {},
   "outputs": [
    {
     "data": {
      "text/html": [
       "<div>\n",
       "<style scoped>\n",
       "    .dataframe tbody tr th:only-of-type {\n",
       "        vertical-align: middle;\n",
       "    }\n",
       "\n",
       "    .dataframe tbody tr th {\n",
       "        vertical-align: top;\n",
       "    }\n",
       "\n",
       "    .dataframe thead th {\n",
       "        text-align: right;\n",
       "    }\n",
       "</style>\n",
       "<table border=\"1\" class=\"dataframe\">\n",
       "  <thead>\n",
       "    <tr style=\"text-align: right;\">\n",
       "      <th></th>\n",
       "      <th>days</th>\n",
       "      <th>company_id</th>\n",
       "      <th>employee_headcount</th>\n",
       "    </tr>\n",
       "  </thead>\n",
       "  <tbody>\n",
       "    <tr>\n",
       "      <td>4</td>\n",
       "      <td>0</td>\n",
       "      <td>1</td>\n",
       "      <td>25</td>\n",
       "    </tr>\n",
       "    <tr>\n",
       "      <td>16</td>\n",
       "      <td>1</td>\n",
       "      <td>1</td>\n",
       "      <td>27</td>\n",
       "    </tr>\n",
       "    <tr>\n",
       "      <td>28</td>\n",
       "      <td>2</td>\n",
       "      <td>1</td>\n",
       "      <td>29</td>\n",
       "    </tr>\n",
       "    <tr>\n",
       "      <td>40</td>\n",
       "      <td>3</td>\n",
       "      <td>1</td>\n",
       "      <td>29</td>\n",
       "    </tr>\n",
       "    <tr>\n",
       "      <td>52</td>\n",
       "      <td>4</td>\n",
       "      <td>1</td>\n",
       "      <td>29</td>\n",
       "    </tr>\n",
       "    <tr>\n",
       "      <td>...</td>\n",
       "      <td>...</td>\n",
       "      <td>...</td>\n",
       "      <td>...</td>\n",
       "    </tr>\n",
       "    <tr>\n",
       "      <td>21328</td>\n",
       "      <td>1777</td>\n",
       "      <td>1</td>\n",
       "      <td>3841</td>\n",
       "    </tr>\n",
       "    <tr>\n",
       "      <td>21340</td>\n",
       "      <td>1778</td>\n",
       "      <td>1</td>\n",
       "      <td>3863</td>\n",
       "    </tr>\n",
       "    <tr>\n",
       "      <td>21352</td>\n",
       "      <td>1779</td>\n",
       "      <td>1</td>\n",
       "      <td>3863</td>\n",
       "    </tr>\n",
       "    <tr>\n",
       "      <td>21364</td>\n",
       "      <td>1780</td>\n",
       "      <td>1</td>\n",
       "      <td>3864</td>\n",
       "    </tr>\n",
       "    <tr>\n",
       "      <td>21376</td>\n",
       "      <td>1781</td>\n",
       "      <td>1</td>\n",
       "      <td>3865</td>\n",
       "    </tr>\n",
       "  </tbody>\n",
       "</table>\n",
       "<p>1782 rows × 3 columns</p>\n",
       "</div>"
      ],
      "text/plain": [
       "       days  company_id  employee_headcount\n",
       "4         0           1                  25\n",
       "16        1           1                  27\n",
       "28        2           1                  29\n",
       "40        3           1                  29\n",
       "52        4           1                  29\n",
       "...     ...         ...                 ...\n",
       "21328  1777           1                3841\n",
       "21340  1778           1                3863\n",
       "21352  1779           1                3863\n",
       "21364  1780           1                3864\n",
       "21376  1781           1                3865\n",
       "\n",
       "[1782 rows x 3 columns]"
      ]
     },
     "execution_count": 58,
     "metadata": {},
     "output_type": "execute_result"
    }
   ],
   "source": [
    "dfhc.loc[dfhc['company_id']==1]"
   ]
  },
  {
   "cell_type": "code",
   "execution_count": 72,
   "metadata": {
    "scrolled": false
   },
   "outputs": [
    {
     "data": {
      "text/plain": [
       "<seaborn.axisgrid.FacetGrid at 0x1ad63672f28>"
      ]
     },
     "execution_count": 72,
     "metadata": {},
     "output_type": "execute_result"
    },
    {
     "data": {
      "image/png": "[encoded data removed]",
      "text/plain": [
       "<Figure size 456x360 with 1 Axes>"
      ]
     },
     "metadata": {
      "needs_background": "light"
     },
     "output_type": "display_data"
    }
   ],
   "source": [
    "sns.relplot(data=dfhc, kind='line', ci=None, x='days', y='employee_headcount', hue='company_id')"
   ]
  },
  {
   "cell_type": "code",
   "execution_count": 67,
   "metadata": {},
   "outputs": [
    {
     "data": {
      "text/plain": [
       "<seaborn.axisgrid.FacetGrid at 0x1ad638ae518>"
      ]
     },
     "execution_count": 67,
     "metadata": {},
     "output_type": "execute_result"
    },
    {
     "data": {
      "image/png": "[encoded data removed]",
      "text/plain": [
       "<Figure size 360x360 with 1 Axes>"
      ]
     },
     "metadata": {
      "needs_background": "light"
     },
     "output_type": "display_data"
    },
    {
     "data": {
      "image/png": "[encoded data removed]",
      "text/plain": [
       "<Figure size 360x360 with 1 Axes>"
      ]
     },
     "metadata": {
      "needs_background": "light"
     },
     "output_type": "display_data"
    }
   ],
   "source": [
    "sns.relplot(data=dfhc.loc[dfhc['company_id']==11], kind='line', ci=None, x='days', y='employee_headcount')\n",
    "sns.relplot(data=dfhc.loc[dfhc['company_id']==12], kind='line', ci=None, x='days', y='employee_headcount')"
   ]
  },
  {
   "cell_type": "markdown",
   "metadata": {},
   "source": [
    "# Question 2: what factors drive employee churn? "
   ]
  },
  {
   "cell_type": "code",
   "execution_count": 73,
   "metadata": {},
   "outputs": [
    {
     "data": {
      "text/html": [
       "<div>\n",
       "<style scoped>\n",
       "    .dataframe tbody tr th:only-of-type {\n",
       "        vertical-align: middle;\n",
       "    }\n",
       "\n",
       "    .dataframe tbody tr th {\n",
       "        vertical-align: top;\n",
       "    }\n",
       "\n",
       "    .dataframe thead th {\n",
       "        text-align: right;\n",
       "    }\n",
       "</style>\n",
       "<table border=\"1\" class=\"dataframe\">\n",
       "  <thead>\n",
       "    <tr style=\"text-align: right;\">\n",
       "      <th></th>\n",
       "      <th>employee_id</th>\n",
       "      <th>company_id</th>\n",
       "      <th>dept</th>\n",
       "      <th>seniority</th>\n",
       "      <th>salary</th>\n",
       "      <th>join_date</th>\n",
       "      <th>quit_date</th>\n",
       "      <th>seniority_bin</th>\n",
       "    </tr>\n",
       "  </thead>\n",
       "  <tbody>\n",
       "    <tr>\n",
       "      <td>0</td>\n",
       "      <td>13021.0</td>\n",
       "      <td>7</td>\n",
       "      <td>customer_service</td>\n",
       "      <td>28</td>\n",
       "      <td>89000.0</td>\n",
       "      <td>2014-03-24</td>\n",
       "      <td>2015-10-30</td>\n",
       "      <td>(19.667, 29.0]</td>\n",
       "    </tr>\n",
       "    <tr>\n",
       "      <td>1</td>\n",
       "      <td>825355.0</td>\n",
       "      <td>7</td>\n",
       "      <td>marketing</td>\n",
       "      <td>20</td>\n",
       "      <td>183000.0</td>\n",
       "      <td>2013-04-29</td>\n",
       "      <td>2014-04-04</td>\n",
       "      <td>(19.667, 29.0]</td>\n",
       "    </tr>\n",
       "    <tr>\n",
       "      <td>2</td>\n",
       "      <td>927315.0</td>\n",
       "      <td>4</td>\n",
       "      <td>marketing</td>\n",
       "      <td>14</td>\n",
       "      <td>101000.0</td>\n",
       "      <td>2014-10-13</td>\n",
       "      <td>NaT</td>\n",
       "      <td>(10.333, 19.667]</td>\n",
       "    </tr>\n",
       "    <tr>\n",
       "      <td>3</td>\n",
       "      <td>662910.0</td>\n",
       "      <td>7</td>\n",
       "      <td>customer_service</td>\n",
       "      <td>20</td>\n",
       "      <td>115000.0</td>\n",
       "      <td>2012-05-14</td>\n",
       "      <td>2013-06-07</td>\n",
       "      <td>(19.667, 29.0]</td>\n",
       "    </tr>\n",
       "    <tr>\n",
       "      <td>4</td>\n",
       "      <td>256971.0</td>\n",
       "      <td>2</td>\n",
       "      <td>data_science</td>\n",
       "      <td>23</td>\n",
       "      <td>276000.0</td>\n",
       "      <td>2011-10-17</td>\n",
       "      <td>2014-08-22</td>\n",
       "      <td>(19.667, 29.0]</td>\n",
       "    </tr>\n",
       "  </tbody>\n",
       "</table>\n",
       "</div>"
      ],
      "text/plain": [
       "   employee_id  company_id              dept  seniority    salary  join_date  \\\n",
       "0      13021.0           7  customer_service         28   89000.0 2014-03-24   \n",
       "1     825355.0           7         marketing         20  183000.0 2013-04-29   \n",
       "2     927315.0           4         marketing         14  101000.0 2014-10-13   \n",
       "3     662910.0           7  customer_service         20  115000.0 2012-05-14   \n",
       "4     256971.0           2      data_science         23  276000.0 2011-10-17   \n",
       "\n",
       "   quit_date     seniority_bin  \n",
       "0 2015-10-30    (19.667, 29.0]  \n",
       "1 2014-04-04    (19.667, 29.0]  \n",
       "2        NaT  (10.333, 19.667]  \n",
       "3 2013-06-07    (19.667, 29.0]  \n",
       "4 2014-08-22    (19.667, 29.0]  "
      ]
     },
     "execution_count": 73,
     "metadata": {},
     "output_type": "execute_result"
    }
   ],
   "source": [
    "df.head()"
   ]
  },
  {
   "cell_type": "code",
   "execution_count": 74,
   "metadata": {},
   "outputs": [
    {
     "data": {
      "text/plain": [
       "array(['customer_service', 'marketing', 'data_science', 'engineer',\n",
       "       'sales', 'design'], dtype=object)"
      ]
     },
     "execution_count": 74,
     "metadata": {},
     "output_type": "execute_result"
    }
   ],
   "source": [
    "df['dept'].unique()"
   ]
  },
  {
   "cell_type": "code",
   "execution_count": 78,
   "metadata": {},
   "outputs": [
    {
     "data": {
      "text/plain": [
       "company_id\n",
       "1     6\n",
       "2     6\n",
       "3     6\n",
       "4     6\n",
       "5     6\n",
       "6     6\n",
       "7     6\n",
       "8     6\n",
       "9     6\n",
       "10    6\n",
       "11    4\n",
       "12    6\n",
       "Name: dept, dtype: int64"
      ]
     },
     "execution_count": 78,
     "metadata": {},
     "output_type": "execute_result"
    }
   ],
   "source": [
    "df.groupby('company_id', as_index=True)['dept'].nunique()"
   ]
  },
  {
   "cell_type": "code",
   "execution_count": 86,
   "metadata": {},
   "outputs": [],
   "source": [
    "df['quit'] = df['quit_date'].notna()"
   ]
  },
  {
   "cell_type": "markdown",
   "metadata": {},
   "source": [
    "## salary"
   ]
  },
  {
   "cell_type": "code",
   "execution_count": 88,
   "metadata": {},
   "outputs": [
    {
     "data": {
      "text/plain": [
       "<seaborn.axisgrid.FacetGrid at 0x1ad6630cb38>"
      ]
     },
     "execution_count": 88,
     "metadata": {},
     "output_type": "execute_result"
    },
    {
     "data": {
      "image/png": "[encoded data removed]",
      "text/plain": [
       "<Figure size 360x360 with 1 Axes>"
      ]
     },
     "metadata": {
      "needs_background": "light"
     },
     "output_type": "display_data"
    }
   ],
   "source": [
    "sns.catplot(data=df.astype({'quit':'category'}), kind='bar', x='salary', y='quit')"
   ]
  },
  {
   "cell_type": "code",
   "execution_count": 92,
   "metadata": {},
   "outputs": [
    {
     "data": {
      "text/plain": [
       "Ttest_indResult(statistic=-5.763520586411431, pvalue=8.335694924613824e-09)"
      ]
     },
     "execution_count": 92,
     "metadata": {},
     "output_type": "execute_result"
    }
   ],
   "source": [
    "stats.ttest_ind(df.loc[df['quit']==True]['salary'], df.loc[df['quit']==False]['salary'])"
   ]
  },
  {
   "cell_type": "code",
   "execution_count": 93,
   "metadata": {},
   "outputs": [
    {
     "data": {
      "text/plain": [
       "Ttest_indResult(statistic=-5.336588718124539, pvalue=9.715794568500267e-08)"
      ]
     },
     "execution_count": 93,
     "metadata": {},
     "output_type": "execute_result"
    }
   ],
   "source": [
    "stats.ttest_ind(df.loc[(df['quit']==True) & (df['company_id']==1)]['salary'], \n",
    "                df.loc[(df['quit']==False) & (df['company_id']==1)]['salary'])"
   ]
  },
  {
   "cell_type": "markdown",
   "metadata": {},
   "source": [
    "clearly salary is significant factor for employee quitting. "
   ]
  },
  {
   "cell_type": "markdown",
   "metadata": {},
   "source": [
    "## seniority"
   ]
  },
  {
   "cell_type": "code",
   "execution_count": 95,
   "metadata": {},
   "outputs": [
    {
     "data": {
      "text/plain": [
       "Ttest_indResult(statistic=-0.04298362740450958, pvalue=0.9657149327010421)"
      ]
     },
     "execution_count": 95,
     "metadata": {},
     "output_type": "execute_result"
    },
    {
     "data": {
      "image/png": "[encoded data removed]",
      "text/plain": [
       "<Figure size 360x360 with 1 Axes>"
      ]
     },
     "metadata": {
      "needs_background": "light"
     },
     "output_type": "display_data"
    }
   ],
   "source": [
    "sns.catplot(data=df.astype({'quit':'category'}), kind='bar', x='seniority', y='quit')\n",
    "stats.ttest_ind(df.loc[df['quit']==True]['seniority'], df.loc[df['quit']==False]['seniority'])"
   ]
  },
  {
   "cell_type": "markdown",
   "metadata": {},
   "source": [
    "it seems seniority is NOT a significant factor for people quitting"
   ]
  },
  {
   "cell_type": "markdown",
   "metadata": {},
   "source": [
    "## dept"
   ]
  },
  {
   "cell_type": "code",
   "execution_count": 109,
   "metadata": {},
   "outputs": [
    {
     "data": {
      "text/plain": [
       "<seaborn.axisgrid.FacetGrid at 0x1ad69be70b8>"
      ]
     },
     "execution_count": 109,
     "metadata": {},
     "output_type": "execute_result"
    },
    {
     "data": {
      "image/png": "[encoded data removed]",
      "text/plain": [
       "<Figure size 360x360 with 1 Axes>"
      ]
     },
     "metadata": {
      "needs_background": "light"
     },
     "output_type": "display_data"
    }
   ],
   "source": [
    "g = sns.catplot(data=df, kind='bar', x='dept', y='quit')\n",
    "g.set_xticklabels(rotation=90)"
   ]
  },
  {
   "cell_type": "markdown",
   "metadata": {},
   "source": [
    "overall, sales and design have higher turnover rate than engineer and data_science."
   ]
  },
  {
   "cell_type": "code",
   "execution_count": 111,
   "metadata": {},
   "outputs": [
    {
     "data": {
      "text/plain": [
       "<seaborn.axisgrid.FacetGrid at 0x1ad6836dd68>"
      ]
     },
     "execution_count": 111,
     "metadata": {},
     "output_type": "execute_result"
    },
    {
     "data": {
      "image/png": "[encoded data removed]",
      "text/plain": [
       "<Figure size 1220x576 with 1 Axes>"
      ]
     },
     "metadata": {
      "needs_background": "light"
     },
     "output_type": "display_data"
    }
   ],
   "source": [
    "g = sns.catplot(data=df, kind='bar', x='dept', y='quit', hue='company_id', height=8, aspect=2)\n",
    "g.set_xticklabels(rotation=90)\n",
    "# g.fig.set_size_inches(16, 8)"
   ]
  },
  {
   "cell_type": "code",
   "execution_count": 112,
   "metadata": {},
   "outputs": [
    {
     "data": {
      "text/plain": [
       "Ttest_indResult(statistic=2.357518589179199, pvalue=0.018469989742023112)"
      ]
     },
     "execution_count": 112,
     "metadata": {},
     "output_type": "execute_result"
    }
   ],
   "source": [
    "a = df.loc[(df['dept']=='data_science') & (df['company_id']==1)]['quit']\n",
    "b = df.loc[(df['dept']=='engineer') & (df['company_id']==1)]['quit']\n",
    "stats.ttest_ind(a, b)"
   ]
  },
  {
   "cell_type": "markdown",
   "metadata": {},
   "source": [
    "there are difference in companies: for example, in company 1, engineers are less likely to quit than data_scientists. However, overall this is not true. "
   ]
  },
  {
   "cell_type": "markdown",
   "metadata": {},
   "source": [
    "## time with company"
   ]
  },
  {
   "cell_type": "code",
   "execution_count": 114,
   "metadata": {},
   "outputs": [
    {
     "data": {
      "text/html": [
       "<div>\n",
       "<style scoped>\n",
       "    .dataframe tbody tr th:only-of-type {\n",
       "        vertical-align: middle;\n",
       "    }\n",
       "\n",
       "    .dataframe tbody tr th {\n",
       "        vertical-align: top;\n",
       "    }\n",
       "\n",
       "    .dataframe thead th {\n",
       "        text-align: right;\n",
       "    }\n",
       "</style>\n",
       "<table border=\"1\" class=\"dataframe\">\n",
       "  <thead>\n",
       "    <tr style=\"text-align: right;\">\n",
       "      <th></th>\n",
       "      <th>employee_id</th>\n",
       "      <th>company_id</th>\n",
       "      <th>dept</th>\n",
       "      <th>seniority</th>\n",
       "      <th>salary</th>\n",
       "      <th>join_date</th>\n",
       "      <th>quit_date</th>\n",
       "      <th>seniority_bin</th>\n",
       "      <th>quit</th>\n",
       "      <th>days_with_company</th>\n",
       "    </tr>\n",
       "  </thead>\n",
       "  <tbody>\n",
       "    <tr>\n",
       "      <td>0</td>\n",
       "      <td>13021.0</td>\n",
       "      <td>7</td>\n",
       "      <td>customer_service</td>\n",
       "      <td>28</td>\n",
       "      <td>89000.0</td>\n",
       "      <td>2014-03-24</td>\n",
       "      <td>2015-10-30</td>\n",
       "      <td>(19.667, 29.0]</td>\n",
       "      <td>True</td>\n",
       "      <td>585 days</td>\n",
       "    </tr>\n",
       "    <tr>\n",
       "      <td>1</td>\n",
       "      <td>825355.0</td>\n",
       "      <td>7</td>\n",
       "      <td>marketing</td>\n",
       "      <td>20</td>\n",
       "      <td>183000.0</td>\n",
       "      <td>2013-04-29</td>\n",
       "      <td>2014-04-04</td>\n",
       "      <td>(19.667, 29.0]</td>\n",
       "      <td>True</td>\n",
       "      <td>340 days</td>\n",
       "    </tr>\n",
       "    <tr>\n",
       "      <td>2</td>\n",
       "      <td>927315.0</td>\n",
       "      <td>4</td>\n",
       "      <td>marketing</td>\n",
       "      <td>14</td>\n",
       "      <td>101000.0</td>\n",
       "      <td>2014-10-13</td>\n",
       "      <td>NaT</td>\n",
       "      <td>(10.333, 19.667]</td>\n",
       "      <td>False</td>\n",
       "      <td>NaT</td>\n",
       "    </tr>\n",
       "    <tr>\n",
       "      <td>3</td>\n",
       "      <td>662910.0</td>\n",
       "      <td>7</td>\n",
       "      <td>customer_service</td>\n",
       "      <td>20</td>\n",
       "      <td>115000.0</td>\n",
       "      <td>2012-05-14</td>\n",
       "      <td>2013-06-07</td>\n",
       "      <td>(19.667, 29.0]</td>\n",
       "      <td>True</td>\n",
       "      <td>389 days</td>\n",
       "    </tr>\n",
       "    <tr>\n",
       "      <td>4</td>\n",
       "      <td>256971.0</td>\n",
       "      <td>2</td>\n",
       "      <td>data_science</td>\n",
       "      <td>23</td>\n",
       "      <td>276000.0</td>\n",
       "      <td>2011-10-17</td>\n",
       "      <td>2014-08-22</td>\n",
       "      <td>(19.667, 29.0]</td>\n",
       "      <td>True</td>\n",
       "      <td>1040 days</td>\n",
       "    </tr>\n",
       "  </tbody>\n",
       "</table>\n",
       "</div>"
      ],
      "text/plain": [
       "   employee_id  company_id              dept  seniority    salary  join_date  \\\n",
       "0      13021.0           7  customer_service         28   89000.0 2014-03-24   \n",
       "1     825355.0           7         marketing         20  183000.0 2013-04-29   \n",
       "2     927315.0           4         marketing         14  101000.0 2014-10-13   \n",
       "3     662910.0           7  customer_service         20  115000.0 2012-05-14   \n",
       "4     256971.0           2      data_science         23  276000.0 2011-10-17   \n",
       "\n",
       "   quit_date     seniority_bin   quit days_with_company  \n",
       "0 2015-10-30    (19.667, 29.0]   True          585 days  \n",
       "1 2014-04-04    (19.667, 29.0]   True          340 days  \n",
       "2        NaT  (10.333, 19.667]  False               NaT  \n",
       "3 2013-06-07    (19.667, 29.0]   True          389 days  \n",
       "4 2014-08-22    (19.667, 29.0]   True         1040 days  "
      ]
     },
     "execution_count": 114,
     "metadata": {},
     "output_type": "execute_result"
    }
   ],
   "source": [
    "df['days_with_company'] = df['quit_date'] - df['join_date']\n",
    "df.head()"
   ]
  },
  {
   "cell_type": "code",
   "execution_count": 121,
   "metadata": {},
   "outputs": [
    {
     "data": {
      "text/plain": [
       "0         585\n",
       "1         340\n",
       "3         389\n",
       "4        1040\n",
       "5         578\n",
       "         ... \n",
       "24690    1452\n",
       "24692     424\n",
       "24695    1151\n",
       "24696     372\n",
       "24699     780\n",
       "Name: days_with_company, Length: 13508, dtype: int64"
      ]
     },
     "execution_count": 121,
     "metadata": {},
     "output_type": "execute_result"
    }
   ],
   "source": [
    "df['days_with_company'].loc[lambda s: s.notna()].dt.days"
   ]
  },
  {
   "cell_type": "code",
   "execution_count": 127,
   "metadata": {},
   "outputs": [
    {
     "data": {
      "text/plain": [
       "Text(0.5, 0, 'time with company (year)')"
      ]
     },
     "execution_count": 127,
     "metadata": {},
     "output_type": "execute_result"
    },
    {
     "data": {
      "image/png": "[encoded data removed]",
      "text/plain": [
       "<Figure size 432x288 with 1 Axes>"
      ]
     },
     "metadata": {
      "needs_background": "light"
     },
     "output_type": "display_data"
    }
   ],
   "source": [
    "f = sns.distplot(df['days_with_company'].loc[lambda s: s.notna()].dt.days/365 , hist=True, kde=True)\n",
    "f.set_xlabel('time with company (year)')"
   ]
  },
  {
   "cell_type": "markdown",
   "metadata": {},
   "source": [
    "clearly, employees quitting peaks around 1 year mark and drops after that. "
   ]
  },
  {
   "cell_type": "markdown",
   "metadata": {},
   "source": [
    "## time (month or week) of quitting"
   ]
  },
  {
   "cell_type": "code",
   "execution_count": 133,
   "metadata": {},
   "outputs": [
    {
     "data": {
      "text/plain": [
       "Text(0.5, 0, 'quit time (month of year)')"
      ]
     },
     "execution_count": 133,
     "metadata": {},
     "output_type": "execute_result"
    },
    {
     "data": {
      "image/png": "[encoded data removed]",
      "text/plain": [
       "<Figure size 432x288 with 1 Axes>"
      ]
     },
     "metadata": {
      "needs_background": "light"
     },
     "output_type": "display_data"
    }
   ],
   "source": [
    "h = sns.distplot(df['quit_date'].loc[lambda s: s.notna()].dt.month, hist=True, kde=False)\n",
    "h.set_xlabel('quit time (month of year)')"
   ]
  },
  {
   "cell_type": "markdown",
   "metadata": {},
   "source": [
    "## try out sns.regplot()"
   ]
  },
  {
   "cell_type": "code",
   "execution_count": 134,
   "metadata": {},
   "outputs": [
    {
     "data": {
      "text/plain": [
       "<matplotlib.axes._subplots.AxesSubplot at 0x1ad6a749780>"
      ]
     },
     "execution_count": 134,
     "metadata": {},
     "output_type": "execute_result"
    },
    {
     "data": {
      "image/png": "[encoded data removed]",
      "text/plain": [
       "<Figure size 432x288 with 1 Axes>"
      ]
     },
     "metadata": {
      "needs_background": "light"
     },
     "output_type": "display_data"
    }
   ],
   "source": [
    "sns.regplot(data=df, x='seniority', y='salary')"
   ]
  },
  {
   "cell_type": "markdown",
   "metadata": {},
   "source": [
    "# build model to predict quitting"
   ]
  },
  {
   "cell_type": "code",
   "execution_count": 136,
   "metadata": {},
   "outputs": [
    {
     "data": {
      "text/html": [
       "<div>\n",
       "<style scoped>\n",
       "    .dataframe tbody tr th:only-of-type {\n",
       "        vertical-align: middle;\n",
       "    }\n",
       "\n",
       "    .dataframe tbody tr th {\n",
       "        vertical-align: top;\n",
       "    }\n",
       "\n",
       "    .dataframe thead th {\n",
       "        text-align: right;\n",
       "    }\n",
       "</style>\n",
       "<table border=\"1\" class=\"dataframe\">\n",
       "  <thead>\n",
       "    <tr style=\"text-align: right;\">\n",
       "      <th></th>\n",
       "      <th>employee_id</th>\n",
       "      <th>company_id</th>\n",
       "      <th>dept</th>\n",
       "      <th>seniority</th>\n",
       "      <th>salary</th>\n",
       "      <th>join_date</th>\n",
       "      <th>quit_date</th>\n",
       "      <th>seniority_bin</th>\n",
       "      <th>quit</th>\n",
       "      <th>days_with_company</th>\n",
       "    </tr>\n",
       "  </thead>\n",
       "  <tbody>\n",
       "    <tr>\n",
       "      <td>0</td>\n",
       "      <td>13021.0</td>\n",
       "      <td>7</td>\n",
       "      <td>customer_service</td>\n",
       "      <td>28</td>\n",
       "      <td>89000.0</td>\n",
       "      <td>2014-03-24</td>\n",
       "      <td>2015-10-30</td>\n",
       "      <td>(19.667, 29.0]</td>\n",
       "      <td>True</td>\n",
       "      <td>585 days</td>\n",
       "    </tr>\n",
       "    <tr>\n",
       "      <td>1</td>\n",
       "      <td>825355.0</td>\n",
       "      <td>7</td>\n",
       "      <td>marketing</td>\n",
       "      <td>20</td>\n",
       "      <td>183000.0</td>\n",
       "      <td>2013-04-29</td>\n",
       "      <td>2014-04-04</td>\n",
       "      <td>(19.667, 29.0]</td>\n",
       "      <td>True</td>\n",
       "      <td>340 days</td>\n",
       "    </tr>\n",
       "    <tr>\n",
       "      <td>2</td>\n",
       "      <td>927315.0</td>\n",
       "      <td>4</td>\n",
       "      <td>marketing</td>\n",
       "      <td>14</td>\n",
       "      <td>101000.0</td>\n",
       "      <td>2014-10-13</td>\n",
       "      <td>NaT</td>\n",
       "      <td>(10.333, 19.667]</td>\n",
       "      <td>False</td>\n",
       "      <td>NaT</td>\n",
       "    </tr>\n",
       "    <tr>\n",
       "      <td>3</td>\n",
       "      <td>662910.0</td>\n",
       "      <td>7</td>\n",
       "      <td>customer_service</td>\n",
       "      <td>20</td>\n",
       "      <td>115000.0</td>\n",
       "      <td>2012-05-14</td>\n",
       "      <td>2013-06-07</td>\n",
       "      <td>(19.667, 29.0]</td>\n",
       "      <td>True</td>\n",
       "      <td>389 days</td>\n",
       "    </tr>\n",
       "    <tr>\n",
       "      <td>4</td>\n",
       "      <td>256971.0</td>\n",
       "      <td>2</td>\n",
       "      <td>data_science</td>\n",
       "      <td>23</td>\n",
       "      <td>276000.0</td>\n",
       "      <td>2011-10-17</td>\n",
       "      <td>2014-08-22</td>\n",
       "      <td>(19.667, 29.0]</td>\n",
       "      <td>True</td>\n",
       "      <td>1040 days</td>\n",
       "    </tr>\n",
       "  </tbody>\n",
       "</table>\n",
       "</div>"
      ],
      "text/plain": [
       "   employee_id  company_id              dept  seniority    salary  join_date  \\\n",
       "0      13021.0           7  customer_service         28   89000.0 2014-03-24   \n",
       "1     825355.0           7         marketing         20  183000.0 2013-04-29   \n",
       "2     927315.0           4         marketing         14  101000.0 2014-10-13   \n",
       "3     662910.0           7  customer_service         20  115000.0 2012-05-14   \n",
       "4     256971.0           2      data_science         23  276000.0 2011-10-17   \n",
       "\n",
       "   quit_date     seniority_bin   quit days_with_company  \n",
       "0 2015-10-30    (19.667, 29.0]   True          585 days  \n",
       "1 2014-04-04    (19.667, 29.0]   True          340 days  \n",
       "2        NaT  (10.333, 19.667]  False               NaT  \n",
       "3 2013-06-07    (19.667, 29.0]   True          389 days  \n",
       "4 2014-08-22    (19.667, 29.0]   True         1040 days  "
      ]
     },
     "execution_count": 136,
     "metadata": {},
     "output_type": "execute_result"
    }
   ],
   "source": [
    "df.head()"
   ]
  },
  {
   "cell_type": "code",
   "execution_count": 139,
   "metadata": {},
   "outputs": [
    {
     "data": {
      "text/html": [
       "<div>\n",
       "<style scoped>\n",
       "    .dataframe tbody tr th:only-of-type {\n",
       "        vertical-align: middle;\n",
       "    }\n",
       "\n",
       "    .dataframe tbody tr th {\n",
       "        vertical-align: top;\n",
       "    }\n",
       "\n",
       "    .dataframe thead th {\n",
       "        text-align: right;\n",
       "    }\n",
       "</style>\n",
       "<table border=\"1\" class=\"dataframe\">\n",
       "  <thead>\n",
       "    <tr style=\"text-align: right;\">\n",
       "      <th></th>\n",
       "      <th>employee_id</th>\n",
       "      <th>company_id</th>\n",
       "      <th>dept</th>\n",
       "      <th>seniority</th>\n",
       "      <th>salary</th>\n",
       "      <th>join_date</th>\n",
       "      <th>quit_date</th>\n",
       "      <th>seniority_bin</th>\n",
       "      <th>quit</th>\n",
       "      <th>days_with_company</th>\n",
       "    </tr>\n",
       "  </thead>\n",
       "  <tbody>\n",
       "    <tr>\n",
       "      <td>0</td>\n",
       "      <td>13021.0</td>\n",
       "      <td>7</td>\n",
       "      <td>customer_service</td>\n",
       "      <td>28</td>\n",
       "      <td>89000.0</td>\n",
       "      <td>2014-03-24</td>\n",
       "      <td>2015-10-30</td>\n",
       "      <td>(19.667, 29.0]</td>\n",
       "      <td>True</td>\n",
       "      <td>585 days</td>\n",
       "    </tr>\n",
       "    <tr>\n",
       "      <td>1</td>\n",
       "      <td>825355.0</td>\n",
       "      <td>7</td>\n",
       "      <td>marketing</td>\n",
       "      <td>20</td>\n",
       "      <td>183000.0</td>\n",
       "      <td>2013-04-29</td>\n",
       "      <td>2014-04-04</td>\n",
       "      <td>(19.667, 29.0]</td>\n",
       "      <td>True</td>\n",
       "      <td>340 days</td>\n",
       "    </tr>\n",
       "    <tr>\n",
       "      <td>2</td>\n",
       "      <td>927315.0</td>\n",
       "      <td>4</td>\n",
       "      <td>marketing</td>\n",
       "      <td>14</td>\n",
       "      <td>101000.0</td>\n",
       "      <td>2014-10-13</td>\n",
       "      <td>NaT</td>\n",
       "      <td>(10.333, 19.667]</td>\n",
       "      <td>False</td>\n",
       "      <td>423 days</td>\n",
       "    </tr>\n",
       "    <tr>\n",
       "      <td>3</td>\n",
       "      <td>662910.0</td>\n",
       "      <td>7</td>\n",
       "      <td>customer_service</td>\n",
       "      <td>20</td>\n",
       "      <td>115000.0</td>\n",
       "      <td>2012-05-14</td>\n",
       "      <td>2013-06-07</td>\n",
       "      <td>(19.667, 29.0]</td>\n",
       "      <td>True</td>\n",
       "      <td>389 days</td>\n",
       "    </tr>\n",
       "    <tr>\n",
       "      <td>4</td>\n",
       "      <td>256971.0</td>\n",
       "      <td>2</td>\n",
       "      <td>data_science</td>\n",
       "      <td>23</td>\n",
       "      <td>276000.0</td>\n",
       "      <td>2011-10-17</td>\n",
       "      <td>2014-08-22</td>\n",
       "      <td>(19.667, 29.0]</td>\n",
       "      <td>True</td>\n",
       "      <td>1040 days</td>\n",
       "    </tr>\n",
       "  </tbody>\n",
       "</table>\n",
       "</div>"
      ],
      "text/plain": [
       "   employee_id  company_id              dept  seniority    salary  join_date  \\\n",
       "0      13021.0           7  customer_service         28   89000.0 2014-03-24   \n",
       "1     825355.0           7         marketing         20  183000.0 2013-04-29   \n",
       "2     927315.0           4         marketing         14  101000.0 2014-10-13   \n",
       "3     662910.0           7  customer_service         20  115000.0 2012-05-14   \n",
       "4     256971.0           2      data_science         23  276000.0 2011-10-17   \n",
       "\n",
       "   quit_date     seniority_bin   quit days_with_company  \n",
       "0 2015-10-30    (19.667, 29.0]   True          585 days  \n",
       "1 2014-04-04    (19.667, 29.0]   True          340 days  \n",
       "2        NaT  (10.333, 19.667]  False          423 days  \n",
       "3 2013-06-07    (19.667, 29.0]   True          389 days  \n",
       "4 2014-08-22    (19.667, 29.0]   True         1040 days  "
      ]
     },
     "execution_count": 139,
     "metadata": {},
     "output_type": "execute_result"
    }
   ],
   "source": [
    "# for the ones still with company, calcualte time with company using max join_date\n",
    "df.loc[df['quit_date'].isna(), 'days_with_company'] = (df['join_date'].max() - df['join_date'])\n",
    "df.head()"
   ]
  },
  {
   "cell_type": "code",
   "execution_count": 140,
   "metadata": {},
   "outputs": [
    {
     "data": {
      "text/html": [
       "<div>\n",
       "<style scoped>\n",
       "    .dataframe tbody tr th:only-of-type {\n",
       "        vertical-align: middle;\n",
       "    }\n",
       "\n",
       "    .dataframe tbody tr th {\n",
       "        vertical-align: top;\n",
       "    }\n",
       "\n",
       "    .dataframe thead th {\n",
       "        text-align: right;\n",
       "    }\n",
       "</style>\n",
       "<table border=\"1\" class=\"dataframe\">\n",
       "  <thead>\n",
       "    <tr style=\"text-align: right;\">\n",
       "      <th></th>\n",
       "      <th>employee_id</th>\n",
       "      <th>company_id</th>\n",
       "      <th>dept</th>\n",
       "      <th>seniority</th>\n",
       "      <th>salary</th>\n",
       "      <th>join_date</th>\n",
       "      <th>quit_date</th>\n",
       "      <th>seniority_bin</th>\n",
       "      <th>quit</th>\n",
       "      <th>days_with_company</th>\n",
       "    </tr>\n",
       "  </thead>\n",
       "  <tbody>\n",
       "    <tr>\n",
       "      <td>0</td>\n",
       "      <td>13021.0</td>\n",
       "      <td>7</td>\n",
       "      <td>customer_service</td>\n",
       "      <td>28</td>\n",
       "      <td>89000.0</td>\n",
       "      <td>2014-03-24</td>\n",
       "      <td>2015-10-30</td>\n",
       "      <td>(19.667, 29.0]</td>\n",
       "      <td>True</td>\n",
       "      <td>585</td>\n",
       "    </tr>\n",
       "    <tr>\n",
       "      <td>1</td>\n",
       "      <td>825355.0</td>\n",
       "      <td>7</td>\n",
       "      <td>marketing</td>\n",
       "      <td>20</td>\n",
       "      <td>183000.0</td>\n",
       "      <td>2013-04-29</td>\n",
       "      <td>2014-04-04</td>\n",
       "      <td>(19.667, 29.0]</td>\n",
       "      <td>True</td>\n",
       "      <td>340</td>\n",
       "    </tr>\n",
       "    <tr>\n",
       "      <td>2</td>\n",
       "      <td>927315.0</td>\n",
       "      <td>4</td>\n",
       "      <td>marketing</td>\n",
       "      <td>14</td>\n",
       "      <td>101000.0</td>\n",
       "      <td>2014-10-13</td>\n",
       "      <td>NaT</td>\n",
       "      <td>(10.333, 19.667]</td>\n",
       "      <td>False</td>\n",
       "      <td>423</td>\n",
       "    </tr>\n",
       "    <tr>\n",
       "      <td>3</td>\n",
       "      <td>662910.0</td>\n",
       "      <td>7</td>\n",
       "      <td>customer_service</td>\n",
       "      <td>20</td>\n",
       "      <td>115000.0</td>\n",
       "      <td>2012-05-14</td>\n",
       "      <td>2013-06-07</td>\n",
       "      <td>(19.667, 29.0]</td>\n",
       "      <td>True</td>\n",
       "      <td>389</td>\n",
       "    </tr>\n",
       "    <tr>\n",
       "      <td>4</td>\n",
       "      <td>256971.0</td>\n",
       "      <td>2</td>\n",
       "      <td>data_science</td>\n",
       "      <td>23</td>\n",
       "      <td>276000.0</td>\n",
       "      <td>2011-10-17</td>\n",
       "      <td>2014-08-22</td>\n",
       "      <td>(19.667, 29.0]</td>\n",
       "      <td>True</td>\n",
       "      <td>1040</td>\n",
       "    </tr>\n",
       "  </tbody>\n",
       "</table>\n",
       "</div>"
      ],
      "text/plain": [
       "   employee_id  company_id              dept  seniority    salary  join_date  \\\n",
       "0      13021.0           7  customer_service         28   89000.0 2014-03-24   \n",
       "1     825355.0           7         marketing         20  183000.0 2013-04-29   \n",
       "2     927315.0           4         marketing         14  101000.0 2014-10-13   \n",
       "3     662910.0           7  customer_service         20  115000.0 2012-05-14   \n",
       "4     256971.0           2      data_science         23  276000.0 2011-10-17   \n",
       "\n",
       "   quit_date     seniority_bin   quit  days_with_company  \n",
       "0 2015-10-30    (19.667, 29.0]   True                585  \n",
       "1 2014-04-04    (19.667, 29.0]   True                340  \n",
       "2        NaT  (10.333, 19.667]  False                423  \n",
       "3 2013-06-07    (19.667, 29.0]   True                389  \n",
       "4 2014-08-22    (19.667, 29.0]   True               1040  "
      ]
     },
     "execution_count": 140,
     "metadata": {},
     "output_type": "execute_result"
    }
   ],
   "source": [
    "df['days_with_company'] = df['days_with_company'].dt.days\n",
    "df.head()"
   ]
  },
  {
   "cell_type": "code",
   "execution_count": 141,
   "metadata": {},
   "outputs": [
    {
     "name": "stdout",
     "output_type": "stream",
     "text": [
      "Checking whether there is an H2O instance running at http://localhost:54321 ..... not found.\n",
      "Attempting to start a local H2O server...\n",
      "; Java HotSpot(TM) 64-Bit Server VM (build 9.0.1+11, mixed mode)\n",
      "  Starting server from C:\\ProgramData\\Anaconda3\\lib\\site-packages\\h2o\\backend\\bin\\h2o.jar\n",
      "  Ice root: C:\\Users\\IVANEM~1\\AppData\\Local\\Temp\\tmpu_lh4r33\n",
      "  JVM stdout: C:\\Users\\IVANEM~1\\AppData\\Local\\Temp\\tmpu_lh4r33\\h2o_IvanEmily_started_from_python.out\n",
      "  JVM stderr: C:\\Users\\IVANEM~1\\AppData\\Local\\Temp\\tmpu_lh4r33\\h2o_IvanEmily_started_from_python.err\n",
      "  Server is running at http://127.0.0.1:54321\n",
      "Connecting to H2O server at http://127.0.0.1:54321 ... successful.\n"
     ]
    },
    {
     "data": {
      "text/html": [
       "<div style=\"overflow:auto\"><table style=\"width:50%\"><tr><td>H2O_cluster_uptime:</td>\n",
       "<td>02 secs</td></tr>\n",
       "<tr><td>H2O_cluster_timezone:</td>\n",
       "<td>America/Chicago</td></tr>\n",
       "<tr><td>H2O_data_parsing_timezone:</td>\n",
       "<td>UTC</td></tr>\n",
       "<tr><td>H2O_cluster_version:</td>\n",
       "<td>3.30.0.3</td></tr>\n",
       "<tr><td>H2O_cluster_version_age:</td>\n",
       "<td>18 days </td></tr>\n",
       "<tr><td>H2O_cluster_name:</td>\n",
       "<td>H2O_from_python_IvanEmily_x927vf</td></tr>\n",
       "<tr><td>H2O_cluster_total_nodes:</td>\n",
       "<td>1</td></tr>\n",
       "<tr><td>H2O_cluster_free_memory:</td>\n",
       "<td>1.982 Gb</td></tr>\n",
       "<tr><td>H2O_cluster_total_cores:</td>\n",
       "<td>4</td></tr>\n",
       "<tr><td>H2O_cluster_allowed_cores:</td>\n",
       "<td>4</td></tr>\n",
       "<tr><td>H2O_cluster_status:</td>\n",
       "<td>accepting new members, healthy</td></tr>\n",
       "<tr><td>H2O_connection_url:</td>\n",
       "<td>http://127.0.0.1:54321</td></tr>\n",
       "<tr><td>H2O_connection_proxy:</td>\n",
       "<td>{\"http\": null, \"https\": null}</td></tr>\n",
       "<tr><td>H2O_internal_security:</td>\n",
       "<td>False</td></tr>\n",
       "<tr><td>H2O_API_Extensions:</td>\n",
       "<td>Amazon S3, Algos, AutoML, Core V3, TargetEncoder, Core V4</td></tr>\n",
       "<tr><td>Python_version:</td>\n",
       "<td>3.7.1 final</td></tr></table></div>"
      ],
      "text/plain": [
       "--------------------------  ---------------------------------------------------------\n",
       "H2O_cluster_uptime:         02 secs\n",
       "H2O_cluster_timezone:       America/Chicago\n",
       "H2O_data_parsing_timezone:  UTC\n",
       "H2O_cluster_version:        3.30.0.3\n",
       "H2O_cluster_version_age:    18 days\n",
       "H2O_cluster_name:           H2O_from_python_IvanEmily_x927vf\n",
       "H2O_cluster_total_nodes:    1\n",
       "H2O_cluster_free_memory:    1.982 Gb\n",
       "H2O_cluster_total_cores:    4\n",
       "H2O_cluster_allowed_cores:  4\n",
       "H2O_cluster_status:         accepting new members, healthy\n",
       "H2O_connection_url:         http://127.0.0.1:54321\n",
       "H2O_connection_proxy:       {\"http\": null, \"https\": null}\n",
       "H2O_internal_security:      False\n",
       "H2O_API_Extensions:         Amazon S3, Algos, AutoML, Core V3, TargetEncoder, Core V4\n",
       "Python_version:             3.7.1 final\n",
       "--------------------------  ---------------------------------------------------------"
      ]
     },
     "metadata": {},
     "output_type": "display_data"
    }
   ],
   "source": [
    "h2o.init()"
   ]
  },
  {
   "cell_type": "code",
   "execution_count": 142,
   "metadata": {},
   "outputs": [
    {
     "data": {
      "text/html": [
       "<div>\n",
       "<style scoped>\n",
       "    .dataframe tbody tr th:only-of-type {\n",
       "        vertical-align: middle;\n",
       "    }\n",
       "\n",
       "    .dataframe tbody tr th {\n",
       "        vertical-align: top;\n",
       "    }\n",
       "\n",
       "    .dataframe thead th {\n",
       "        text-align: right;\n",
       "    }\n",
       "</style>\n",
       "<table border=\"1\" class=\"dataframe\">\n",
       "  <thead>\n",
       "    <tr style=\"text-align: right;\">\n",
       "      <th></th>\n",
       "      <th>employee_id</th>\n",
       "      <th>company_id</th>\n",
       "      <th>dept</th>\n",
       "      <th>seniority</th>\n",
       "      <th>salary</th>\n",
       "      <th>join_date</th>\n",
       "      <th>quit_date</th>\n",
       "      <th>seniority_bin</th>\n",
       "      <th>quit</th>\n",
       "      <th>days_with_company</th>\n",
       "    </tr>\n",
       "  </thead>\n",
       "  <tbody>\n",
       "    <tr>\n",
       "      <td>0</td>\n",
       "      <td>13021.0</td>\n",
       "      <td>7</td>\n",
       "      <td>customer_service</td>\n",
       "      <td>28</td>\n",
       "      <td>89000.0</td>\n",
       "      <td>2014-03-24</td>\n",
       "      <td>2015-10-30</td>\n",
       "      <td>(19.667, 29.0]</td>\n",
       "      <td>True</td>\n",
       "      <td>585</td>\n",
       "    </tr>\n",
       "    <tr>\n",
       "      <td>1</td>\n",
       "      <td>825355.0</td>\n",
       "      <td>7</td>\n",
       "      <td>marketing</td>\n",
       "      <td>20</td>\n",
       "      <td>183000.0</td>\n",
       "      <td>2013-04-29</td>\n",
       "      <td>2014-04-04</td>\n",
       "      <td>(19.667, 29.0]</td>\n",
       "      <td>True</td>\n",
       "      <td>340</td>\n",
       "    </tr>\n",
       "    <tr>\n",
       "      <td>2</td>\n",
       "      <td>927315.0</td>\n",
       "      <td>4</td>\n",
       "      <td>marketing</td>\n",
       "      <td>14</td>\n",
       "      <td>101000.0</td>\n",
       "      <td>2014-10-13</td>\n",
       "      <td>NaT</td>\n",
       "      <td>(10.333, 19.667]</td>\n",
       "      <td>False</td>\n",
       "      <td>423</td>\n",
       "    </tr>\n",
       "    <tr>\n",
       "      <td>3</td>\n",
       "      <td>662910.0</td>\n",
       "      <td>7</td>\n",
       "      <td>customer_service</td>\n",
       "      <td>20</td>\n",
       "      <td>115000.0</td>\n",
       "      <td>2012-05-14</td>\n",
       "      <td>2013-06-07</td>\n",
       "      <td>(19.667, 29.0]</td>\n",
       "      <td>True</td>\n",
       "      <td>389</td>\n",
       "    </tr>\n",
       "    <tr>\n",
       "      <td>4</td>\n",
       "      <td>256971.0</td>\n",
       "      <td>2</td>\n",
       "      <td>data_science</td>\n",
       "      <td>23</td>\n",
       "      <td>276000.0</td>\n",
       "      <td>2011-10-17</td>\n",
       "      <td>2014-08-22</td>\n",
       "      <td>(19.667, 29.0]</td>\n",
       "      <td>True</td>\n",
       "      <td>1040</td>\n",
       "    </tr>\n",
       "  </tbody>\n",
       "</table>\n",
       "</div>"
      ],
      "text/plain": [
       "   employee_id  company_id              dept  seniority    salary  join_date  \\\n",
       "0      13021.0           7  customer_service         28   89000.0 2014-03-24   \n",
       "1     825355.0           7         marketing         20  183000.0 2013-04-29   \n",
       "2     927315.0           4         marketing         14  101000.0 2014-10-13   \n",
       "3     662910.0           7  customer_service         20  115000.0 2012-05-14   \n",
       "4     256971.0           2      data_science         23  276000.0 2011-10-17   \n",
       "\n",
       "   quit_date     seniority_bin   quit  days_with_company  \n",
       "0 2015-10-30    (19.667, 29.0]   True                585  \n",
       "1 2014-04-04    (19.667, 29.0]   True                340  \n",
       "2        NaT  (10.333, 19.667]  False                423  \n",
       "3 2013-06-07    (19.667, 29.0]   True                389  \n",
       "4 2014-08-22    (19.667, 29.0]   True               1040  "
      ]
     },
     "execution_count": 142,
     "metadata": {},
     "output_type": "execute_result"
    }
   ],
   "source": [
    "df.head()"
   ]
  },
  {
   "cell_type": "code",
   "execution_count": 143,
   "metadata": {},
   "outputs": [
    {
     "name": "stdout",
     "output_type": "stream",
     "text": [
      "Parse progress: |█████████████████████████████████████████████████████████| 100%\n"
     ]
    },
    {
     "data": {
      "text/html": [
       "<table>\n",
       "<thead>\n",
       "<tr><th>       </th><th>employee_id      </th><th>company_id  </th><th>dept            </th><th>seniority         </th><th>salary           </th><th>join_date          </th><th>quit_date          </th><th>seniority_bin   </th><th>quit  </th><th>days_with_company  </th></tr>\n",
       "</thead>\n",
       "<tbody>\n",
       "<tr><td>type   </td><td>int              </td><td>enum        </td><td>enum            </td><td>int               </td><td>int              </td><td>time               </td><td>time               </td><td>enum            </td><td>enum  </td><td>int                </td></tr>\n",
       "<tr><td>mins   </td><td>36.0             </td><td>            </td><td>                </td><td>1.0               </td><td>17000.0          </td><td>1295827200000.0    </td><td>1318464000000.0    </td><td>                </td><td>      </td><td>0.0                </td></tr>\n",
       "<tr><td>mean   </td><td>501616.6248987853</td><td>            </td><td>                </td><td>14.120971659919004</td><td>138176.2753036432</td><td>1372503215805.6685 </td><td>1399051956174.1138 </td><td>                </td><td>      </td><td>572.9257894736813  </td></tr>\n",
       "<tr><td>maxs   </td><td>999969.0         </td><td>            </td><td>                </td><td>29.0              </td><td>408000.0         </td><td>1449705600000.0    </td><td>1449619200000.0    </td><td>                </td><td>      </td><td>1774.0             </td></tr>\n",
       "<tr><td>sigma  </td><td>288908.5332803188</td><td>            </td><td>                </td><td>8.054137181668152 </td><td>76056.33195256838</td><td>44438227125.59638  </td><td>33386059086.042866 </td><td>                </td><td>      </td><td>361.76612883439594 </td></tr>\n",
       "<tr><td>zeros  </td><td>0                </td><td>            </td><td>                </td><td>0                 </td><td>0                </td><td>0                  </td><td>0                  </td><td>                </td><td>      </td><td>2                  </td></tr>\n",
       "<tr><td>missing</td><td>0                </td><td>0           </td><td>0               </td><td>0                 </td><td>0                </td><td>0                  </td><td>11192              </td><td>0               </td><td>0     </td><td>0                  </td></tr>\n",
       "<tr><td>0      </td><td>13021.0          </td><td>7           </td><td>customer_service</td><td>28.0              </td><td>89000.0          </td><td>2014-03-24 00:00:00</td><td>2015-10-30 00:00:00</td><td>(19.667, 29.0]  </td><td>True  </td><td>585.0              </td></tr>\n",
       "<tr><td>1      </td><td>825355.0         </td><td>7           </td><td>marketing       </td><td>20.0              </td><td>183000.0         </td><td>2013-04-29 00:00:00</td><td>2014-04-04 00:00:00</td><td>(19.667, 29.0]  </td><td>True  </td><td>340.0              </td></tr>\n",
       "<tr><td>2      </td><td>927315.0         </td><td>4           </td><td>marketing       </td><td>14.0              </td><td>101000.0         </td><td>2014-10-13 00:00:00</td><td>                   </td><td>(10.333, 19.667]</td><td>False </td><td>423.0              </td></tr>\n",
       "<tr><td>3      </td><td>662910.0         </td><td>7           </td><td>customer_service</td><td>20.0              </td><td>115000.0         </td><td>2012-05-14 00:00:00</td><td>2013-06-07 00:00:00</td><td>(19.667, 29.0]  </td><td>True  </td><td>389.0              </td></tr>\n",
       "<tr><td>4      </td><td>256971.0         </td><td>2           </td><td>data_science    </td><td>23.0              </td><td>276000.0         </td><td>2011-10-17 00:00:00</td><td>2014-08-22 00:00:00</td><td>(19.667, 29.0]  </td><td>True  </td><td>1040.0             </td></tr>\n",
       "<tr><td>5      </td><td>509529.0         </td><td>4           </td><td>data_science    </td><td>14.0              </td><td>165000.0         </td><td>2012-01-30 00:00:00</td><td>2013-08-30 00:00:00</td><td>(10.333, 19.667]</td><td>True  </td><td>578.0              </td></tr>\n",
       "<tr><td>6      </td><td>88600.0          </td><td>4           </td><td>customer_service</td><td>21.0              </td><td>107000.0         </td><td>2013-10-21 00:00:00</td><td>                   </td><td>(19.667, 29.0]  </td><td>False </td><td>780.0              </td></tr>\n",
       "<tr><td>7      </td><td>716309.0         </td><td>2           </td><td>customer_service</td><td>4.0               </td><td>30000.0          </td><td>2014-03-05 00:00:00</td><td>                   </td><td>(0.972, 10.333] </td><td>False </td><td>645.0              </td></tr>\n",
       "<tr><td>8      </td><td>172999.0         </td><td>9           </td><td>engineer        </td><td>7.0               </td><td>160000.0         </td><td>2012-12-10 00:00:00</td><td>2015-10-23 00:00:00</td><td>(0.972, 10.333] </td><td>True  </td><td>1047.0             </td></tr>\n",
       "<tr><td>9      </td><td>504159.0         </td><td>1           </td><td>sales           </td><td>7.0               </td><td>104000.0         </td><td>2012-06-12 00:00:00</td><td>                   </td><td>(0.972, 10.333] </td><td>False </td><td>1276.0             </td></tr>\n",
       "</tbody>\n",
       "</table>"
      ]
     },
     "metadata": {},
     "output_type": "display_data"
    }
   ],
   "source": [
    "hdf = H2OFrame(df)\n",
    "hdf['quit'] = hdf['quit'].asfactor()\n",
    "hdf['dept'] = hdf['dept'].asfactor()\n",
    "hdf['company_id'] = hdf['company_id'].asfactor()\n",
    "hdf.summary()"
   ]
  },
  {
   "cell_type": "code",
   "execution_count": 144,
   "metadata": {},
   "outputs": [],
   "source": [
    "train, valid = hdf.split_frame(ratios=[0.7])\n",
    "features = ['company_id', 'dept', 'seniority', 'salary', 'days_with_company']\n",
    "target = 'quit'"
   ]
  },
  {
   "cell_type": "code",
   "execution_count": 145,
   "metadata": {},
   "outputs": [
    {
     "name": "stdout",
     "output_type": "stream",
     "text": [
      "drf Model Build progress: |███████████████████████████████████████████████| 100%\n"
     ]
    }
   ],
   "source": [
    "clf = H2ORandomForestEstimator(balance_classes=True,\n",
    "                               ntrees=200,\n",
    "                               max_depth=4)\n",
    "clf.train(x=features,\n",
    "         y=target,\n",
    "         training_frame=train,\n",
    "         validation_frame=valid)"
   ]
  },
  {
   "cell_type": "code",
   "execution_count": 146,
   "metadata": {},
   "outputs": [
    {
     "name": "stdout",
     "output_type": "stream",
     "text": [
      "\n",
      "ModelMetricsBinomial: drf\n",
      "** Reported on test data. **\n",
      "\n",
      "MSE: 0.18077590030775872\n",
      "RMSE: 0.4251774927107016\n",
      "LogLoss: 0.5358271423102884\n",
      "Mean Per-Class Error: 0.27608780237174246\n",
      "AUC: 0.8053675357882103\n",
      "AUCPR: 0.8116431603321117\n",
      "Gini: 0.6107350715764206\n",
      "\n",
      "Confusion Matrix (Act/Pred) for max f1 @ threshold = 0.4891891975137443: \n"
     ]
    },
    {
     "data": {
      "text/html": [
       "<div>\n",
       "<style scoped>\n",
       "    .dataframe tbody tr th:only-of-type {\n",
       "        vertical-align: middle;\n",
       "    }\n",
       "\n",
       "    .dataframe tbody tr th {\n",
       "        vertical-align: top;\n",
       "    }\n",
       "\n",
       "    .dataframe thead th {\n",
       "        text-align: right;\n",
       "    }\n",
       "</style>\n",
       "<table border=\"1\" class=\"dataframe\">\n",
       "  <thead>\n",
       "    <tr style=\"text-align: right;\">\n",
       "      <th></th>\n",
       "      <th></th>\n",
       "      <th>False</th>\n",
       "      <th>True</th>\n",
       "      <th>Error</th>\n",
       "      <th>Rate</th>\n",
       "    </tr>\n",
       "  </thead>\n",
       "  <tbody>\n",
       "    <tr>\n",
       "      <td>0</td>\n",
       "      <td>False</td>\n",
       "      <td>2912.0</td>\n",
       "      <td>4914.0</td>\n",
       "      <td>0.6279</td>\n",
       "      <td>(4914.0/7826.0)</td>\n",
       "    </tr>\n",
       "    <tr>\n",
       "      <td>1</td>\n",
       "      <td>True</td>\n",
       "      <td>146.0</td>\n",
       "      <td>9404.0</td>\n",
       "      <td>0.0153</td>\n",
       "      <td>(146.0/9550.0)</td>\n",
       "    </tr>\n",
       "    <tr>\n",
       "      <td>2</td>\n",
       "      <td>Total</td>\n",
       "      <td>3058.0</td>\n",
       "      <td>14318.0</td>\n",
       "      <td>0.2912</td>\n",
       "      <td>(5060.0/17376.0)</td>\n",
       "    </tr>\n",
       "  </tbody>\n",
       "</table>\n",
       "</div>"
      ],
      "text/plain": [
       "           False     True   Error               Rate\n",
       "0  False  2912.0   4914.0  0.6279    (4914.0/7826.0)\n",
       "1   True   146.0   9404.0  0.0153     (146.0/9550.0)\n",
       "2  Total  3058.0  14318.0  0.2912   (5060.0/17376.0)"
      ]
     },
     "metadata": {},
     "output_type": "display_data"
    },
    {
     "name": "stdout",
     "output_type": "stream",
     "text": [
      "\n",
      "Maximum Metrics: Maximum metrics at their respective thresholds\n"
     ]
    },
    {
     "data": {
      "text/html": [
       "<div>\n",
       "<style scoped>\n",
       "    .dataframe tbody tr th:only-of-type {\n",
       "        vertical-align: middle;\n",
       "    }\n",
       "\n",
       "    .dataframe tbody tr th {\n",
       "        vertical-align: top;\n",
       "    }\n",
       "\n",
       "    .dataframe thead th {\n",
       "        text-align: right;\n",
       "    }\n",
       "</style>\n",
       "<table border=\"1\" class=\"dataframe\">\n",
       "  <thead>\n",
       "    <tr style=\"text-align: right;\">\n",
       "      <th></th>\n",
       "      <th>metric</th>\n",
       "      <th>threshold</th>\n",
       "      <th>value</th>\n",
       "      <th>idx</th>\n",
       "    </tr>\n",
       "  </thead>\n",
       "  <tbody>\n",
       "    <tr>\n",
       "      <td>0</td>\n",
       "      <td>max f1</td>\n",
       "      <td>0.489189</td>\n",
       "      <td>0.788001</td>\n",
       "      <td>277.0</td>\n",
       "    </tr>\n",
       "    <tr>\n",
       "      <td>1</td>\n",
       "      <td>max f2</td>\n",
       "      <td>0.162149</td>\n",
       "      <td>0.898136</td>\n",
       "      <td>325.0</td>\n",
       "    </tr>\n",
       "    <tr>\n",
       "      <td>2</td>\n",
       "      <td>max f0point5</td>\n",
       "      <td>0.610291</td>\n",
       "      <td>0.747183</td>\n",
       "      <td>147.0</td>\n",
       "    </tr>\n",
       "    <tr>\n",
       "      <td>3</td>\n",
       "      <td>max accuracy</td>\n",
       "      <td>0.579566</td>\n",
       "      <td>0.736763</td>\n",
       "      <td>194.0</td>\n",
       "    </tr>\n",
       "    <tr>\n",
       "      <td>4</td>\n",
       "      <td>max precision</td>\n",
       "      <td>0.750334</td>\n",
       "      <td>0.964286</td>\n",
       "      <td>0.0</td>\n",
       "    </tr>\n",
       "    <tr>\n",
       "      <td>5</td>\n",
       "      <td>max recall</td>\n",
       "      <td>0.087187</td>\n",
       "      <td>1.000000</td>\n",
       "      <td>386.0</td>\n",
       "    </tr>\n",
       "    <tr>\n",
       "      <td>6</td>\n",
       "      <td>max specificity</td>\n",
       "      <td>0.750334</td>\n",
       "      <td>0.999744</td>\n",
       "      <td>0.0</td>\n",
       "    </tr>\n",
       "    <tr>\n",
       "      <td>7</td>\n",
       "      <td>max absolute_mcc</td>\n",
       "      <td>0.579566</td>\n",
       "      <td>0.468316</td>\n",
       "      <td>194.0</td>\n",
       "    </tr>\n",
       "    <tr>\n",
       "      <td>8</td>\n",
       "      <td>max min_per_class_accuracy</td>\n",
       "      <td>0.608413</td>\n",
       "      <td>0.713613</td>\n",
       "      <td>152.0</td>\n",
       "    </tr>\n",
       "    <tr>\n",
       "      <td>9</td>\n",
       "      <td>max mean_per_class_accuracy</td>\n",
       "      <td>0.585996</td>\n",
       "      <td>0.723912</td>\n",
       "      <td>186.0</td>\n",
       "    </tr>\n",
       "    <tr>\n",
       "      <td>10</td>\n",
       "      <td>max tns</td>\n",
       "      <td>0.750334</td>\n",
       "      <td>7824.000000</td>\n",
       "      <td>0.0</td>\n",
       "    </tr>\n",
       "    <tr>\n",
       "      <td>11</td>\n",
       "      <td>max fns</td>\n",
       "      <td>0.750334</td>\n",
       "      <td>9496.000000</td>\n",
       "      <td>0.0</td>\n",
       "    </tr>\n",
       "    <tr>\n",
       "      <td>12</td>\n",
       "      <td>max fps</td>\n",
       "      <td>0.066894</td>\n",
       "      <td>7826.000000</td>\n",
       "      <td>399.0</td>\n",
       "    </tr>\n",
       "    <tr>\n",
       "      <td>13</td>\n",
       "      <td>max tps</td>\n",
       "      <td>0.087187</td>\n",
       "      <td>9550.000000</td>\n",
       "      <td>386.0</td>\n",
       "    </tr>\n",
       "    <tr>\n",
       "      <td>14</td>\n",
       "      <td>max tnr</td>\n",
       "      <td>0.750334</td>\n",
       "      <td>0.999744</td>\n",
       "      <td>0.0</td>\n",
       "    </tr>\n",
       "    <tr>\n",
       "      <td>15</td>\n",
       "      <td>max fnr</td>\n",
       "      <td>0.750334</td>\n",
       "      <td>0.994346</td>\n",
       "      <td>0.0</td>\n",
       "    </tr>\n",
       "    <tr>\n",
       "      <td>16</td>\n",
       "      <td>max fpr</td>\n",
       "      <td>0.066894</td>\n",
       "      <td>1.000000</td>\n",
       "      <td>399.0</td>\n",
       "    </tr>\n",
       "    <tr>\n",
       "      <td>17</td>\n",
       "      <td>max tpr</td>\n",
       "      <td>0.087187</td>\n",
       "      <td>1.000000</td>\n",
       "      <td>386.0</td>\n",
       "    </tr>\n",
       "  </tbody>\n",
       "</table>\n",
       "</div>"
      ],
      "text/plain": [
       "                         metric  threshold        value    idx\n",
       "0                        max f1   0.489189     0.788001  277.0\n",
       "1                        max f2   0.162149     0.898136  325.0\n",
       "2                  max f0point5   0.610291     0.747183  147.0\n",
       "3                  max accuracy   0.579566     0.736763  194.0\n",
       "4                 max precision   0.750334     0.964286    0.0\n",
       "5                    max recall   0.087187     1.000000  386.0\n",
       "6               max specificity   0.750334     0.999744    0.0\n",
       "7              max absolute_mcc   0.579566     0.468316  194.0\n",
       "8    max min_per_class_accuracy   0.608413     0.713613  152.0\n",
       "9   max mean_per_class_accuracy   0.585996     0.723912  186.0\n",
       "10                      max tns   0.750334  7824.000000    0.0\n",
       "11                      max fns   0.750334  9496.000000    0.0\n",
       "12                      max fps   0.066894  7826.000000  399.0\n",
       "13                      max tps   0.087187  9550.000000  386.0\n",
       "14                      max tnr   0.750334     0.999744    0.0\n",
       "15                      max fnr   0.750334     0.994346    0.0\n",
       "16                      max fpr   0.066894     1.000000  399.0\n",
       "17                      max tpr   0.087187     1.000000  386.0"
      ]
     },
     "metadata": {},
     "output_type": "display_data"
    },
    {
     "name": "stdout",
     "output_type": "stream",
     "text": [
      "\n",
      "Gains/Lift Table: Avg response rate: 54.96 %, avg score: 55.23 %\n"
     ]
    },
    {
     "data": {
      "text/html": [
       "<div>\n",
       "<style scoped>\n",
       "    .dataframe tbody tr th:only-of-type {\n",
       "        vertical-align: middle;\n",
       "    }\n",
       "\n",
       "    .dataframe tbody tr th {\n",
       "        vertical-align: top;\n",
       "    }\n",
       "\n",
       "    .dataframe thead th {\n",
       "        text-align: right;\n",
       "    }\n",
       "</style>\n",
       "<table border=\"1\" class=\"dataframe\">\n",
       "  <thead>\n",
       "    <tr style=\"text-align: right;\">\n",
       "      <th></th>\n",
       "      <th></th>\n",
       "      <th>group</th>\n",
       "      <th>cumulative_data_fraction</th>\n",
       "      <th>lower_threshold</th>\n",
       "      <th>lift</th>\n",
       "      <th>cumulative_lift</th>\n",
       "      <th>response_rate</th>\n",
       "      <th>score</th>\n",
       "      <th>cumulative_response_rate</th>\n",
       "      <th>cumulative_score</th>\n",
       "      <th>capture_rate</th>\n",
       "      <th>cumulative_capture_rate</th>\n",
       "      <th>gain</th>\n",
       "      <th>cumulative_gain</th>\n",
       "    </tr>\n",
       "  </thead>\n",
       "  <tbody>\n",
       "    <tr>\n",
       "      <td>0</td>\n",
       "      <td></td>\n",
       "      <td>1</td>\n",
       "      <td>0.010071</td>\n",
       "      <td>0.747156</td>\n",
       "      <td>1.684315</td>\n",
       "      <td>1.684315</td>\n",
       "      <td>0.925714</td>\n",
       "      <td>0.748990</td>\n",
       "      <td>0.925714</td>\n",
       "      <td>0.748990</td>\n",
       "      <td>0.016963</td>\n",
       "      <td>0.016963</td>\n",
       "      <td>68.431533</td>\n",
       "      <td>68.431533</td>\n",
       "    </tr>\n",
       "    <tr>\n",
       "      <td>1</td>\n",
       "      <td></td>\n",
       "      <td>2</td>\n",
       "      <td>0.020028</td>\n",
       "      <td>0.745812</td>\n",
       "      <td>1.630167</td>\n",
       "      <td>1.657397</td>\n",
       "      <td>0.895954</td>\n",
       "      <td>0.746305</td>\n",
       "      <td>0.910920</td>\n",
       "      <td>0.747655</td>\n",
       "      <td>0.016230</td>\n",
       "      <td>0.033194</td>\n",
       "      <td>63.016675</td>\n",
       "      <td>65.739664</td>\n",
       "    </tr>\n",
       "    <tr>\n",
       "      <td>2</td>\n",
       "      <td></td>\n",
       "      <td>3</td>\n",
       "      <td>0.030099</td>\n",
       "      <td>0.744089</td>\n",
       "      <td>1.601139</td>\n",
       "      <td>1.638572</td>\n",
       "      <td>0.880000</td>\n",
       "      <td>0.745017</td>\n",
       "      <td>0.900574</td>\n",
       "      <td>0.746772</td>\n",
       "      <td>0.016126</td>\n",
       "      <td>0.049319</td>\n",
       "      <td>60.113927</td>\n",
       "      <td>63.857247</td>\n",
       "    </tr>\n",
       "    <tr>\n",
       "      <td>3</td>\n",
       "      <td></td>\n",
       "      <td>4</td>\n",
       "      <td>0.040055</td>\n",
       "      <td>0.743108</td>\n",
       "      <td>1.640684</td>\n",
       "      <td>1.639097</td>\n",
       "      <td>0.901734</td>\n",
       "      <td>0.743499</td>\n",
       "      <td>0.900862</td>\n",
       "      <td>0.745959</td>\n",
       "      <td>0.016335</td>\n",
       "      <td>0.065654</td>\n",
       "      <td>64.068396</td>\n",
       "      <td>63.909731</td>\n",
       "    </tr>\n",
       "    <tr>\n",
       "      <td>4</td>\n",
       "      <td></td>\n",
       "      <td>5</td>\n",
       "      <td>0.050012</td>\n",
       "      <td>0.742466</td>\n",
       "      <td>1.682753</td>\n",
       "      <td>1.647788</td>\n",
       "      <td>0.924855</td>\n",
       "      <td>0.742790</td>\n",
       "      <td>0.905639</td>\n",
       "      <td>0.745328</td>\n",
       "      <td>0.016754</td>\n",
       "      <td>0.082408</td>\n",
       "      <td>68.275278</td>\n",
       "      <td>64.778821</td>\n",
       "    </tr>\n",
       "    <tr>\n",
       "      <td>5</td>\n",
       "      <td></td>\n",
       "      <td>6</td>\n",
       "      <td>0.100253</td>\n",
       "      <td>0.739068</td>\n",
       "      <td>1.640238</td>\n",
       "      <td>1.644005</td>\n",
       "      <td>0.901489</td>\n",
       "      <td>0.740722</td>\n",
       "      <td>0.903559</td>\n",
       "      <td>0.743020</td>\n",
       "      <td>0.082408</td>\n",
       "      <td>0.164817</td>\n",
       "      <td>64.023821</td>\n",
       "      <td>64.400454</td>\n",
       "    </tr>\n",
       "    <tr>\n",
       "      <td>6</td>\n",
       "      <td></td>\n",
       "      <td>7</td>\n",
       "      <td>0.150092</td>\n",
       "      <td>0.735778</td>\n",
       "      <td>1.607274</td>\n",
       "      <td>1.631808</td>\n",
       "      <td>0.883372</td>\n",
       "      <td>0.736918</td>\n",
       "      <td>0.896856</td>\n",
       "      <td>0.740993</td>\n",
       "      <td>0.080105</td>\n",
       "      <td>0.244921</td>\n",
       "      <td>60.727422</td>\n",
       "      <td>63.180805</td>\n",
       "    </tr>\n",
       "    <tr>\n",
       "      <td>7</td>\n",
       "      <td></td>\n",
       "      <td>8</td>\n",
       "      <td>0.200046</td>\n",
       "      <td>0.729180</td>\n",
       "      <td>1.540686</td>\n",
       "      <td>1.609054</td>\n",
       "      <td>0.846774</td>\n",
       "      <td>0.733520</td>\n",
       "      <td>0.884350</td>\n",
       "      <td>0.739127</td>\n",
       "      <td>0.076963</td>\n",
       "      <td>0.321885</td>\n",
       "      <td>54.068569</td>\n",
       "      <td>60.905368</td>\n",
       "    </tr>\n",
       "    <tr>\n",
       "      <td>8</td>\n",
       "      <td></td>\n",
       "      <td>9</td>\n",
       "      <td>0.300299</td>\n",
       "      <td>0.673538</td>\n",
       "      <td>1.309772</td>\n",
       "      <td>1.509140</td>\n",
       "      <td>0.719862</td>\n",
       "      <td>0.704529</td>\n",
       "      <td>0.829437</td>\n",
       "      <td>0.727577</td>\n",
       "      <td>0.131309</td>\n",
       "      <td>0.453194</td>\n",
       "      <td>30.977236</td>\n",
       "      <td>50.914029</td>\n",
       "    </tr>\n",
       "    <tr>\n",
       "      <td>9</td>\n",
       "      <td></td>\n",
       "      <td>10</td>\n",
       "      <td>0.400092</td>\n",
       "      <td>0.613669</td>\n",
       "      <td>1.232921</td>\n",
       "      <td>1.440244</td>\n",
       "      <td>0.677624</td>\n",
       "      <td>0.628896</td>\n",
       "      <td>0.791571</td>\n",
       "      <td>0.702963</td>\n",
       "      <td>0.123037</td>\n",
       "      <td>0.576230</td>\n",
       "      <td>23.292089</td>\n",
       "      <td>44.024437</td>\n",
       "    </tr>\n",
       "    <tr>\n",
       "      <td>10</td>\n",
       "      <td></td>\n",
       "      <td>11</td>\n",
       "      <td>0.500576</td>\n",
       "      <td>0.609040</td>\n",
       "      <td>1.161922</td>\n",
       "      <td>1.384375</td>\n",
       "      <td>0.638603</td>\n",
       "      <td>0.610997</td>\n",
       "      <td>0.760865</td>\n",
       "      <td>0.684502</td>\n",
       "      <td>0.116754</td>\n",
       "      <td>0.692984</td>\n",
       "      <td>16.192224</td>\n",
       "      <td>38.437515</td>\n",
       "    </tr>\n",
       "    <tr>\n",
       "      <td>11</td>\n",
       "      <td></td>\n",
       "      <td>12</td>\n",
       "      <td>0.600138</td>\n",
       "      <td>0.598050</td>\n",
       "      <td>1.074858</td>\n",
       "      <td>1.333026</td>\n",
       "      <td>0.590751</td>\n",
       "      <td>0.605023</td>\n",
       "      <td>0.732643</td>\n",
       "      <td>0.671317</td>\n",
       "      <td>0.107016</td>\n",
       "      <td>0.800000</td>\n",
       "      <td>7.485834</td>\n",
       "      <td>33.302647</td>\n",
       "    </tr>\n",
       "    <tr>\n",
       "      <td>12</td>\n",
       "      <td></td>\n",
       "      <td>13</td>\n",
       "      <td>0.699988</td>\n",
       "      <td>0.568992</td>\n",
       "      <td>0.857828</td>\n",
       "      <td>1.265241</td>\n",
       "      <td>0.471470</td>\n",
       "      <td>0.582774</td>\n",
       "      <td>0.695388</td>\n",
       "      <td>0.658687</td>\n",
       "      <td>0.085654</td>\n",
       "      <td>0.885654</td>\n",
       "      <td>-14.217191</td>\n",
       "      <td>26.524145</td>\n",
       "    </tr>\n",
       "    <tr>\n",
       "      <td>13</td>\n",
       "      <td></td>\n",
       "      <td>14</td>\n",
       "      <td>0.800012</td>\n",
       "      <td>0.501808</td>\n",
       "      <td>0.801910</td>\n",
       "      <td>1.207312</td>\n",
       "      <td>0.440736</td>\n",
       "      <td>0.540363</td>\n",
       "      <td>0.663549</td>\n",
       "      <td>0.643893</td>\n",
       "      <td>0.080209</td>\n",
       "      <td>0.965864</td>\n",
       "      <td>-19.809036</td>\n",
       "      <td>20.731247</td>\n",
       "    </tr>\n",
       "    <tr>\n",
       "      <td>14</td>\n",
       "      <td></td>\n",
       "      <td>15</td>\n",
       "      <td>0.899977</td>\n",
       "      <td>0.106267</td>\n",
       "      <td>0.326814</td>\n",
       "      <td>1.109511</td>\n",
       "      <td>0.179620</td>\n",
       "      <td>0.276250</td>\n",
       "      <td>0.609797</td>\n",
       "      <td>0.603057</td>\n",
       "      <td>0.032670</td>\n",
       "      <td>0.998534</td>\n",
       "      <td>-67.318558</td>\n",
       "      <td>10.951064</td>\n",
       "    </tr>\n",
       "    <tr>\n",
       "      <td>15</td>\n",
       "      <td></td>\n",
       "      <td>16</td>\n",
       "      <td>1.000000</td>\n",
       "      <td>0.065970</td>\n",
       "      <td>0.014656</td>\n",
       "      <td>1.000000</td>\n",
       "      <td>0.008055</td>\n",
       "      <td>0.095712</td>\n",
       "      <td>0.549609</td>\n",
       "      <td>0.552311</td>\n",
       "      <td>0.001466</td>\n",
       "      <td>1.000000</td>\n",
       "      <td>-98.534369</td>\n",
       "      <td>0.000000</td>\n",
       "    </tr>\n",
       "  </tbody>\n",
       "</table>\n",
       "</div>"
      ],
      "text/plain": [
       "      group  cumulative_data_fraction  lower_threshold      lift  \\\n",
       "0         1                  0.010071         0.747156  1.684315   \n",
       "1         2                  0.020028         0.745812  1.630167   \n",
       "2         3                  0.030099         0.744089  1.601139   \n",
       "3         4                  0.040055         0.743108  1.640684   \n",
       "4         5                  0.050012         0.742466  1.682753   \n",
       "5         6                  0.100253         0.739068  1.640238   \n",
       "6         7                  0.150092         0.735778  1.607274   \n",
       "7         8                  0.200046         0.729180  1.540686   \n",
       "8         9                  0.300299         0.673538  1.309772   \n",
       "9        10                  0.400092         0.613669  1.232921   \n",
       "10       11                  0.500576         0.609040  1.161922   \n",
       "11       12                  0.600138         0.598050  1.074858   \n",
       "12       13                  0.699988         0.568992  0.857828   \n",
       "13       14                  0.800012         0.501808  0.801910   \n",
       "14       15                  0.899977         0.106267  0.326814   \n",
       "15       16                  1.000000         0.065970  0.014656   \n",
       "\n",
       "    cumulative_lift  response_rate     score  cumulative_response_rate  \\\n",
       "0          1.684315       0.925714  0.748990                  0.925714   \n",
       "1          1.657397       0.895954  0.746305                  0.910920   \n",
       "2          1.638572       0.880000  0.745017                  0.900574   \n",
       "3          1.639097       0.901734  0.743499                  0.900862   \n",
       "4          1.647788       0.924855  0.742790                  0.905639   \n",
       "5          1.644005       0.901489  0.740722                  0.903559   \n",
       "6          1.631808       0.883372  0.736918                  0.896856   \n",
       "7          1.609054       0.846774  0.733520                  0.884350   \n",
       "8          1.509140       0.719862  0.704529                  0.829437   \n",
       "9          1.440244       0.677624  0.628896                  0.791571   \n",
       "10         1.384375       0.638603  0.610997                  0.760865   \n",
       "11         1.333026       0.590751  0.605023                  0.732643   \n",
       "12         1.265241       0.471470  0.582774                  0.695388   \n",
       "13         1.207312       0.440736  0.540363                  0.663549   \n",
       "14         1.109511       0.179620  0.276250                  0.609797   \n",
       "15         1.000000       0.008055  0.095712                  0.549609   \n",
       "\n",
       "    cumulative_score  capture_rate  cumulative_capture_rate       gain  \\\n",
       "0           0.748990      0.016963                 0.016963  68.431533   \n",
       "1           0.747655      0.016230                 0.033194  63.016675   \n",
       "2           0.746772      0.016126                 0.049319  60.113927   \n",
       "3           0.745959      0.016335                 0.065654  64.068396   \n",
       "4           0.745328      0.016754                 0.082408  68.275278   \n",
       "5           0.743020      0.082408                 0.164817  64.023821   \n",
       "6           0.740993      0.080105                 0.244921  60.727422   \n",
       "7           0.739127      0.076963                 0.321885  54.068569   \n",
       "8           0.727577      0.131309                 0.453194  30.977236   \n",
       "9           0.702963      0.123037                 0.576230  23.292089   \n",
       "10          0.684502      0.116754                 0.692984  16.192224   \n",
       "11          0.671317      0.107016                 0.800000   7.485834   \n",
       "12          0.658687      0.085654                 0.885654 -14.217191   \n",
       "13          0.643893      0.080209                 0.965864 -19.809036   \n",
       "14          0.603057      0.032670                 0.998534 -67.318558   \n",
       "15          0.552311      0.001466                 1.000000 -98.534369   \n",
       "\n",
       "    cumulative_gain  \n",
       "0         68.431533  \n",
       "1         65.739664  \n",
       "2         63.857247  \n",
       "3         63.909731  \n",
       "4         64.778821  \n",
       "5         64.400454  \n",
       "6         63.180805  \n",
       "7         60.905368  \n",
       "8         50.914029  \n",
       "9         44.024437  \n",
       "10        38.437515  \n",
       "11        33.302647  \n",
       "12        26.524145  \n",
       "13        20.731247  \n",
       "14        10.951064  \n",
       "15         0.000000  "
      ]
     },
     "metadata": {},
     "output_type": "display_data"
    },
    {
     "name": "stdout",
     "output_type": "stream",
     "text": [
      "\n"
     ]
    },
    {
     "data": {
      "text/plain": []
     },
     "execution_count": 146,
     "metadata": {},
     "output_type": "execute_result"
    }
   ],
   "source": [
    "clf.model_performance(train)"
   ]
  },
  {
   "cell_type": "code",
   "execution_count": 147,
   "metadata": {},
   "outputs": [
    {
     "data": {
      "image/png": "[encoded data removed]",
      "text/plain": [
       "<Figure size 1008x720 with 1 Axes>"
      ]
     },
     "metadata": {
      "needs_background": "light"
     },
     "output_type": "display_data"
    }
   ],
   "source": [
    "clf.varimp_plot()"
   ]
  },
  {
   "cell_type": "code",
   "execution_count": 155,
   "metadata": {},
   "outputs": [
    {
     "name": "stdout",
     "output_type": "stream",
     "text": [
      "Accuray {'train': [[0.5901318828700584, 0.7188809723386421]], 'valid': [[0.5841787095253808, 0.7341616602949208]]}         \n",
      "AUC {'train': 0.7969070096028122, 'valid': 0.7947722476376283}         \n",
      "F1 {'train': [[0.4888025159560433, 0.7519068647129666]], 'valid': [[0.46952835075969684, 0.7767759833548004]]}\n"
     ]
    },
    {
     "data": {
      "image/png": "[encoded data removed]",
      "text/plain": [
       "<Figure size 432x288 with 1 Axes>"
      ]
     },
     "metadata": {
      "needs_background": "light"
     },
     "output_type": "display_data"
    },
    {
     "data": {
      "image/png": "[encoded data removed]",
      "text/plain": [
       "<Figure size 432x288 with 1 Axes>"
      ]
     },
     "metadata": {
      "needs_background": "light"
     },
     "output_type": "display_data"
    }
   ],
   "source": [
    "#  clf.model_performance(valid)\n",
    "print(f\"Accuray {clf.accuracy(train=True, valid=True)} \\\n",
    "        \\nAUC {clf.auc(train=True, valid=True)} \\\n",
    "        \\nF1 {clf.F1(train=True, valid=True)}\") \n",
    "\n",
    "perf_train = clf.model_performance(train)\n",
    "perf_valid = clf.model_performance(valid)\n",
    "perf_train.plot(type='roc')\n",
    "perf_valid.plot(type='roc')"
   ]
  },
  {
   "cell_type": "markdown",
   "metadata": {},
   "source": [
    "the main factors for employee churn is time with company and salary. they do make sense."
   ]
  },
  {
   "cell_type": "markdown",
   "metadata": {},
   "source": [
    "# More factors to add?\n",
    "- The one more variable to add to the dataset is time with company."
   ]
  },
  {
   "cell_type": "markdown",
   "metadata": {},
   "source": [
    "# calculate and plot the correlation heat map"
   ]
  },
  {
   "cell_type": "code",
   "execution_count": 157,
   "metadata": {},
   "outputs": [
    {
     "data": {
      "text/html": [
       "<div>\n",
       "<style scoped>\n",
       "    .dataframe tbody tr th:only-of-type {\n",
       "        vertical-align: middle;\n",
       "    }\n",
       "\n",
       "    .dataframe tbody tr th {\n",
       "        vertical-align: top;\n",
       "    }\n",
       "\n",
       "    .dataframe thead th {\n",
       "        text-align: right;\n",
       "    }\n",
       "</style>\n",
       "<table border=\"1\" class=\"dataframe\">\n",
       "  <thead>\n",
       "    <tr style=\"text-align: right;\">\n",
       "      <th></th>\n",
       "      <th>employee_id</th>\n",
       "      <th>company_id</th>\n",
       "      <th>dept</th>\n",
       "      <th>seniority</th>\n",
       "      <th>salary</th>\n",
       "      <th>join_date</th>\n",
       "      <th>quit_date</th>\n",
       "      <th>seniority_bin</th>\n",
       "      <th>quit</th>\n",
       "      <th>days_with_company</th>\n",
       "    </tr>\n",
       "  </thead>\n",
       "  <tbody>\n",
       "    <tr>\n",
       "      <td>0</td>\n",
       "      <td>13021.0</td>\n",
       "      <td>7</td>\n",
       "      <td>customer_service</td>\n",
       "      <td>28</td>\n",
       "      <td>89000.0</td>\n",
       "      <td>2014-03-24</td>\n",
       "      <td>2015-10-30</td>\n",
       "      <td>(19.667, 29.0]</td>\n",
       "      <td>True</td>\n",
       "      <td>585</td>\n",
       "    </tr>\n",
       "    <tr>\n",
       "      <td>1</td>\n",
       "      <td>825355.0</td>\n",
       "      <td>7</td>\n",
       "      <td>marketing</td>\n",
       "      <td>20</td>\n",
       "      <td>183000.0</td>\n",
       "      <td>2013-04-29</td>\n",
       "      <td>2014-04-04</td>\n",
       "      <td>(19.667, 29.0]</td>\n",
       "      <td>True</td>\n",
       "      <td>340</td>\n",
       "    </tr>\n",
       "    <tr>\n",
       "      <td>2</td>\n",
       "      <td>927315.0</td>\n",
       "      <td>4</td>\n",
       "      <td>marketing</td>\n",
       "      <td>14</td>\n",
       "      <td>101000.0</td>\n",
       "      <td>2014-10-13</td>\n",
       "      <td>NaT</td>\n",
       "      <td>(10.333, 19.667]</td>\n",
       "      <td>False</td>\n",
       "      <td>423</td>\n",
       "    </tr>\n",
       "    <tr>\n",
       "      <td>3</td>\n",
       "      <td>662910.0</td>\n",
       "      <td>7</td>\n",
       "      <td>customer_service</td>\n",
       "      <td>20</td>\n",
       "      <td>115000.0</td>\n",
       "      <td>2012-05-14</td>\n",
       "      <td>2013-06-07</td>\n",
       "      <td>(19.667, 29.0]</td>\n",
       "      <td>True</td>\n",
       "      <td>389</td>\n",
       "    </tr>\n",
       "    <tr>\n",
       "      <td>4</td>\n",
       "      <td>256971.0</td>\n",
       "      <td>2</td>\n",
       "      <td>data_science</td>\n",
       "      <td>23</td>\n",
       "      <td>276000.0</td>\n",
       "      <td>2011-10-17</td>\n",
       "      <td>2014-08-22</td>\n",
       "      <td>(19.667, 29.0]</td>\n",
       "      <td>True</td>\n",
       "      <td>1040</td>\n",
       "    </tr>\n",
       "  </tbody>\n",
       "</table>\n",
       "</div>"
      ],
      "text/plain": [
       "   employee_id  company_id              dept  seniority    salary  join_date  \\\n",
       "0      13021.0           7  customer_service         28   89000.0 2014-03-24   \n",
       "1     825355.0           7         marketing         20  183000.0 2013-04-29   \n",
       "2     927315.0           4         marketing         14  101000.0 2014-10-13   \n",
       "3     662910.0           7  customer_service         20  115000.0 2012-05-14   \n",
       "4     256971.0           2      data_science         23  276000.0 2011-10-17   \n",
       "\n",
       "   quit_date     seniority_bin   quit  days_with_company  \n",
       "0 2015-10-30    (19.667, 29.0]   True                585  \n",
       "1 2014-04-04    (19.667, 29.0]   True                340  \n",
       "2        NaT  (10.333, 19.667]  False                423  \n",
       "3 2013-06-07    (19.667, 29.0]   True                389  \n",
       "4 2014-08-22    (19.667, 29.0]   True               1040  "
      ]
     },
     "execution_count": 157,
     "metadata": {},
     "output_type": "execute_result"
    }
   ],
   "source": [
    "df.head()"
   ]
  },
  {
   "cell_type": "code",
   "execution_count": 162,
   "metadata": {},
   "outputs": [
    {
     "data": {
      "text/plain": [
       "<matplotlib.axes._subplots.AxesSubplot at 0x1ad630f8390>"
      ]
     },
     "execution_count": 162,
     "metadata": {},
     "output_type": "execute_result"
    },
    {
     "data": {
      "image/png": "[encoded data removed]",
      "text/plain": [
       "<Figure size 432x288 with 2 Axes>"
      ]
     },
     "metadata": {
      "needs_background": "light"
     },
     "output_type": "display_data"
    }
   ],
   "source": [
    "corr = df[['seniority', 'salary', 'days_with_company', 'dept', 'quit']].corr()\n",
    "sns.heatmap(corr, center=0, vmin=-1, vmax=1)"
   ]
  },
  {
   "cell_type": "code",
   "execution_count": null,
   "metadata": {},
   "outputs": [],
   "source": []
  }
 ],
 "metadata": {
  "kernelspec": {
   "display_name": "Python 3",
   "language": "python",
   "name": "python3"
  },
  "language_info": {
   "codemirror_mode": {
    "name": "ipython",
    "version": 3
   },
   "file_extension": ".py",
   "mimetype": "text/x-python",
   "name": "python",
   "nbconvert_exporter": "python",
   "pygments_lexer": "ipython3",
   "version": "3.7.1"
  },
  "toc": {
   "base_numbering": 1,
   "nav_menu": {},
   "number_sections": true,
   "sideBar": true,
   "skip_h1_title": false,
   "title_cell": "Table of Contents",
   "title_sidebar": "Contents",
   "toc_cell": false,
   "toc_position": {
    "height": "calc(100% - 180px)",
    "left": "10px",
    "top": "150px",
    "width": "255px"
   },
   "toc_section_display": true,
   "toc_window_display": true
  }
 },
 "nbformat": 4,
 "nbformat_minor": 2
}
